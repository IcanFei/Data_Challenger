{
  "nbformat": 4,
  "nbformat_minor": 0,
  "metadata": {
    "kernelspec": {
      "display_name": "Python 2",
      "language": "python",
      "name": "python2"
    },
    "language_info": {
      "codemirror_mode": {
        "name": "ipython",
        "version": 2
      },
      "file_extension": ".py",
      "mimetype": "text/x-python",
      "name": "python",
      "nbconvert_exporter": "python",
      "pygments_lexer": "ipython2",
      "version": "2.7.13"
    },
    "colab": {
      "name": "Section#3_Data_Incubator.ipynb",
      "provenance": []
    }
  },
  "cells": [
    {
      "cell_type": "markdown",
      "metadata": {
        "id": "nTVQ7tP3Wacy",
        "colab_type": "text"
      },
      "source": [
        "# Pre Load packages \n"
      ]
    },
    {
      "cell_type": "code",
      "metadata": {
        "id": "42CxzjjDWac5",
        "colab_type": "code",
        "colab": {}
      },
      "source": [
        "# load packages\n",
        "%matplotlib inline\n",
        "import numpy as np\n",
        "import scipy\n",
        "import pandas as pd\n",
        "import matplotlib.pyplot as plt\n",
        "import statsmodels.formula.api as sm\n",
        "import seaborn as sns\n",
        "import sklearn as sl\n",
        "from sklearn import preprocessing\n",
        "pd.set_option('display.float_format', lambda x: '%.3f' % x)"
      ],
      "execution_count": 0,
      "outputs": []
    },
    {
      "cell_type": "markdown",
      "metadata": {
        "id": "dvuCiB8FWadM",
        "colab_type": "text"
      },
      "source": [
        "# Pre Load data \n",
        "\n",
        "'Video_id' is defined as the index of each sample. 'cvt_per_day' is the metric, the rest of 14 columns are all characteristic features (numeric & categorical) of each video."
      ]
    },
    {
      "cell_type": "code",
      "metadata": {
        "id": "zCddD9eG5jm-",
        "colab_type": "code",
        "outputId": "ee15e7f5-60b0-480d-a7ad-d46adb31b820",
        "colab": {
          "base_uri": "https://localhost:8080/",
          "height": 291
        }
      },
      "source": [
        "import pandas as pd\n",
        "file_id='1vMUTPkfZOv-m6lQbIFVH65VpNnWMj7IN'\n",
        "link='https://drive.google.com/uc?export=download&id={FILE_ID}'\n",
        "csv_url=link.format(FILE_ID=file_id)\n",
        "TV = pd.read_csv(csv_url)\n",
        "TV.head()"
      ],
      "execution_count": 102,
      "outputs": [
        {
          "output_type": "execute_result",
          "data": {
            "text/html": [
              "<div>\n",
              "<style scoped>\n",
              "    .dataframe tbody tr th:only-of-type {\n",
              "        vertical-align: middle;\n",
              "    }\n",
              "\n",
              "    .dataframe tbody tr th {\n",
              "        vertical-align: top;\n",
              "    }\n",
              "\n",
              "    .dataframe thead th {\n",
              "        text-align: right;\n",
              "    }\n",
              "</style>\n",
              "<table border=\"1\" class=\"dataframe\">\n",
              "  <thead>\n",
              "    <tr style=\"text-align: right;\">\n",
              "      <th></th>\n",
              "      <th>video_id</th>\n",
              "      <th>cvt_per_day</th>\n",
              "      <th>weighted_categorical_position</th>\n",
              "      <th>weighted_horizontal_poition</th>\n",
              "      <th>import_id</th>\n",
              "      <th>release_year</th>\n",
              "      <th>genres</th>\n",
              "      <th>imdb_votes</th>\n",
              "      <th>budget</th>\n",
              "      <th>boxoffice</th>\n",
              "      <th>imdb_rating</th>\n",
              "      <th>duration_in_mins</th>\n",
              "      <th>metacritic_score</th>\n",
              "      <th>awards</th>\n",
              "      <th>mpaa</th>\n",
              "      <th>star_category</th>\n",
              "    </tr>\n",
              "  </thead>\n",
              "  <tbody>\n",
              "    <tr>\n",
              "      <th>0</th>\n",
              "      <td>385504</td>\n",
              "      <td>307127.606</td>\n",
              "      <td>1</td>\n",
              "      <td>3</td>\n",
              "      <td>lionsgate</td>\n",
              "      <td>2013</td>\n",
              "      <td>Action,Thriller,Drama</td>\n",
              "      <td>69614</td>\n",
              "      <td>15000000</td>\n",
              "      <td>42930462</td>\n",
              "      <td>6.500</td>\n",
              "      <td>112.301</td>\n",
              "      <td>51</td>\n",
              "      <td>other award</td>\n",
              "      <td>PG-13</td>\n",
              "      <td>1.710</td>\n",
              "    </tr>\n",
              "    <tr>\n",
              "      <th>1</th>\n",
              "      <td>300175</td>\n",
              "      <td>270338.426</td>\n",
              "      <td>1</td>\n",
              "      <td>3</td>\n",
              "      <td>lionsgate</td>\n",
              "      <td>2013</td>\n",
              "      <td>Comedy,Crime,Thriller</td>\n",
              "      <td>46705</td>\n",
              "      <td>15000000</td>\n",
              "      <td>3301046</td>\n",
              "      <td>6.500</td>\n",
              "      <td>94.983</td>\n",
              "      <td>41</td>\n",
              "      <td>no award</td>\n",
              "      <td>R</td>\n",
              "      <td>3.250</td>\n",
              "    </tr>\n",
              "    <tr>\n",
              "      <th>2</th>\n",
              "      <td>361899</td>\n",
              "      <td>256165.867</td>\n",
              "      <td>1</td>\n",
              "      <td>3</td>\n",
              "      <td>other</td>\n",
              "      <td>2012</td>\n",
              "      <td>Crime,Drama</td>\n",
              "      <td>197596</td>\n",
              "      <td>26000000</td>\n",
              "      <td>37397291</td>\n",
              "      <td>7.300</td>\n",
              "      <td>115.764</td>\n",
              "      <td>58</td>\n",
              "      <td>other award</td>\n",
              "      <td>R</td>\n",
              "      <td>2.647</td>\n",
              "    </tr>\n",
              "    <tr>\n",
              "      <th>3</th>\n",
              "      <td>308314</td>\n",
              "      <td>196622.721</td>\n",
              "      <td>3</td>\n",
              "      <td>4</td>\n",
              "      <td>lionsgate</td>\n",
              "      <td>2008</td>\n",
              "      <td>Thriller,Drama,War,Documentary,Mystery,Action</td>\n",
              "      <td>356339</td>\n",
              "      <td>15000000</td>\n",
              "      <td>15700000</td>\n",
              "      <td>7.600</td>\n",
              "      <td>130.704</td>\n",
              "      <td>94</td>\n",
              "      <td>Oscar</td>\n",
              "      <td>R</td>\n",
              "      <td>1.667</td>\n",
              "    </tr>\n",
              "    <tr>\n",
              "      <th>4</th>\n",
              "      <td>307201</td>\n",
              "      <td>159841.652</td>\n",
              "      <td>1</td>\n",
              "      <td>3</td>\n",
              "      <td>lionsgate</td>\n",
              "      <td>2013</td>\n",
              "      <td>Crime,Thriller,Mystery,Documentary</td>\n",
              "      <td>46720</td>\n",
              "      <td>27220000</td>\n",
              "      <td>8551228</td>\n",
              "      <td>6.400</td>\n",
              "      <td>105.546</td>\n",
              "      <td>37</td>\n",
              "      <td>other award</td>\n",
              "      <td>R</td>\n",
              "      <td>3.067</td>\n",
              "    </tr>\n",
              "  </tbody>\n",
              "</table>\n",
              "</div>"
            ],
            "text/plain": [
              "   video_id  cvt_per_day  ...   mpaa  star_category\n",
              "0    385504   307127.606  ...  PG-13          1.710\n",
              "1    300175   270338.426  ...      R          3.250\n",
              "2    361899   256165.867  ...      R          2.647\n",
              "3    308314   196622.721  ...      R          1.667\n",
              "4    307201   159841.652  ...      R          3.067\n",
              "\n",
              "[5 rows x 16 columns]"
            ]
          },
          "metadata": {
            "tags": []
          },
          "execution_count": 102
        }
      ]
    },
    {
      "cell_type": "code",
      "metadata": {
        "id": "twg1tZdJWade",
        "colab_type": "code",
        "outputId": "7e4400a4-e91a-4f69-9554-a6201f703fbb",
        "colab": {
          "base_uri": "https://localhost:8080/",
          "height": 52
        }
      },
      "source": [
        "print 'Number of rows: ' + str(TV.shape[0])\n",
        "print 'Number of columns: ' + str(TV.shape[1])"
      ],
      "execution_count": 103,
      "outputs": [
        {
          "output_type": "stream",
          "text": [
            "Number of rows: 4226\n",
            "Number of columns: 16\n"
          ],
          "name": "stdout"
        }
      ]
    },
    {
      "cell_type": "markdown",
      "metadata": {
        "id": "5g3hI5jbWadn",
        "colab_type": "text"
      },
      "source": [
        "\n",
        "# 1 : Data Exploration\n",
        "\n",
        "## 1.1 Exclude erroneous data \n",
        "Each video should only appear once in the list, duplicated video will be removed."
      ]
    },
    {
      "cell_type": "code",
      "metadata": {
        "id": "1NtmGOPYWadp",
        "colab_type": "code",
        "outputId": "fd305474-76bd-4da9-85c2-3f88b9df2684",
        "colab": {
          "base_uri": "https://localhost:8080/",
          "height": 89
        }
      },
      "source": [
        "# check duplicated entry\n",
        "if len(TV.set_index('video_id').index.get_duplicates()) == 0:\n",
        "    print 'There is no duplicated entry (video_id based).'\n",
        "    \n"
      ],
      "execution_count": 104,
      "outputs": [
        {
          "output_type": "stream",
          "text": [
            "There is no duplicated entry (video_id based).\n"
          ],
          "name": "stdout"
        },
        {
          "output_type": "stream",
          "text": [
            "/usr/local/lib/python2.7/dist-packages/ipykernel_launcher.py:1: FutureWarning: 'get_duplicates' is deprecated and will be removed in a future release. You can use idx[idx.duplicated()].unique() instead\n",
            "  \"\"\"Entry point for launching an IPython kernel.\n"
          ],
          "name": "stderr"
        }
      ]
    },
    {
      "cell_type": "markdown",
      "metadata": {
        "id": "1kyLTORjWad0",
        "colab_type": "text"
      },
      "source": [
        "## 1.2 Understand the numerical features\n",
        "### 1.2.1 Overview \n",
        "Note: video_id, release_year are not numerical features although they are represented by numbers."
      ]
    },
    {
      "cell_type": "code",
      "metadata": {
        "id": "lVFAojfPWad2",
        "colab_type": "code",
        "outputId": "e2c0f30c-36b5-4ad0-bbe6-656c9aaf61eb",
        "colab": {
          "base_uri": "https://localhost:8080/",
          "height": 607
        }
      },
      "source": [
        "TV.drop(['video_id', 'release_year'],axis=1).describe(percentiles = [.1, .25, .5, .75, .95])\n",
        "print((TV == 0).sum())\n",
        "print TV.dtypes"
      ],
      "execution_count": 105,
      "outputs": [
        {
          "output_type": "stream",
          "text": [
            "video_id                            0\n",
            "cvt_per_day                         0\n",
            "weighted_categorical_position       0\n",
            "weighted_horizontal_poition         0\n",
            "import_id                           0\n",
            "release_year                        0\n",
            "genres                              0\n",
            "imdb_votes                        344\n",
            "budget                           2454\n",
            "boxoffice                        3194\n",
            "imdb_rating                       344\n",
            "duration_in_mins                    0\n",
            "metacritic_score                 3012\n",
            "awards                              0\n",
            "mpaa                                0\n",
            "star_category                    1846\n",
            "dtype: int64\n",
            "video_id                           int64\n",
            "cvt_per_day                      float64\n",
            "weighted_categorical_position      int64\n",
            "weighted_horizontal_poition        int64\n",
            "import_id                         object\n",
            "release_year                       int64\n",
            "genres                            object\n",
            "imdb_votes                         int64\n",
            "budget                             int64\n",
            "boxoffice                          int64\n",
            "imdb_rating                      float64\n",
            "duration_in_mins                 float64\n",
            "metacritic_score                   int64\n",
            "awards                            object\n",
            "mpaa                              object\n",
            "star_category                    float64\n",
            "dtype: object\n"
          ],
          "name": "stdout"
        }
      ]
    },
    {
      "cell_type": "markdown",
      "metadata": {
        "id": "dz23vdZWWad_",
        "colab_type": "text"
      },
      "source": [
        "Among the 10 numerical features (not include video_id and release_year), 4 features have over 25% of missing data: budget, boxoffice, metacritic_score, star_category. 2 features have less than 10% of missing data: imdb_votes, imdb_rating."
      ]
    },
    {
      "cell_type": "markdown",
      "metadata": {
        "id": "AaydbgbnWaeB",
        "colab_type": "text"
      },
      "source": [
        "###  1.2.2 cvt_per_day feature "
      ]
    },
    {
      "cell_type": "code",
      "metadata": {
        "id": "HCTr7llPWaeD",
        "colab_type": "code",
        "outputId": "28a4aade-766d-429d-bd60-625bd6bd5b26",
        "colab": {
          "base_uri": "https://localhost:8080/",
          "height": 576
        }
      },
      "source": [
        "# cvt_per_day data explore\n",
        "plt.hist(TV['cvt_per_day'].values, bins = range(0,15000, 30), alpha = 0.5, color='r', label = 'cvt_per_day', normed = True)\n",
        "plt.legend(loc ='upper right')\n",
        "plt.title('Historgrams of cvt_per_day before data processing')\n",
        "plt.xlabel('cvt_per_day')\n",
        "plt.ylabel('density')\n",
        "plt.show()\n",
        "\n",
        "# log scale of y due to large variation\n",
        "plt.hist(TV['cvt_per_day'].values, log = True, bins = range(0,15000, 30), alpha = 0.5, color='g', label = 'cvt_per_day_log_scale', normed = True)\n",
        "plt.legend(loc ='upper right')\n",
        "plt.title('Historgrams of cvt_per_day before data processing')\n",
        "plt.xlabel('cvt_per_day_log_scale')\n",
        "plt.ylabel('density')\n",
        "plt.show()"
      ],
      "execution_count": 106,
      "outputs": [
        {
          "output_type": "display_data",
          "data": {
            "image/png": "[encoded data removed]",
            "text/plain": [
              "<Figure size 432x288 with 1 Axes>"
            ]
          },
          "metadata": {
            "tags": []
          }
        },
        {
          "output_type": "display_data",
          "data": {
            "image/png": "[encoded data removed]",
            "text/plain": [
              "<Figure size 432x288 with 1 Axes>"
            ]
          },
          "metadata": {
            "tags": []
          }
        }
      ]
    },
    {
      "cell_type": "markdown",
      "metadata": {
        "id": "9kIUWUH7WaeL",
        "colab_type": "text"
      },
      "source": [
        "### 1.2.3 Correlation among numerical features"
      ]
    },
    {
      "cell_type": "code",
      "metadata": {
        "id": "7jykh-Q1WaeO",
        "colab_type": "code",
        "outputId": "eb2236ff-c584-46fc-ead9-a482e22003ec",
        "colab": {
          "base_uri": "https://localhost:8080/",
          "height": 429
        }
      },
      "source": [
        "# correlation of the numerical features \n",
        "corr = TV[['cvt_per_day','weighted_categorical_position','weighted_horizontal_poition'\n",
        "               ,'release_year', 'imdb_votes', 'budget', 'boxoffice' ,'imdb_rating', \n",
        "               'duration_in_mins', 'metacritic_score', 'star_category']].corr()\n",
        "\n",
        "sns.heatmap(corr, cmap=\"YlGnBu\")"
      ],
      "execution_count": 107,
      "outputs": [
        {
          "output_type": "execute_result",
          "data": {
            "text/plain": [
              "<matplotlib.axes._subplots.AxesSubplot at 0x7f35cb19f5d0>"
            ]
          },
          "metadata": {
            "tags": []
          },
          "execution_count": 107
        },
        {
          "output_type": "display_data",
          "data": {
            "image/png": "[encoded data removed]",
            "text/plain": [
              "<Figure size 432x288 with 2 Axes>"
            ]
          },
          "metadata": {
            "tags": []
          }
        }
      ]
    },
    {
      "cell_type": "code",
      "metadata": {
        "id": "IxuCCURYWaeV",
        "colab_type": "code",
        "outputId": "2d357086-8598-42fb-ba9a-57576fdc6941",
        "colab": {
          "base_uri": "https://localhost:8080/",
          "height": 406
        }
      },
      "source": [
        "corr"
      ],
      "execution_count": 108,
      "outputs": [
        {
          "output_type": "execute_result",
          "data": {
            "text/html": [
              "<div>\n",
              "<style scoped>\n",
              "    .dataframe tbody tr th:only-of-type {\n",
              "        vertical-align: middle;\n",
              "    }\n",
              "\n",
              "    .dataframe tbody tr th {\n",
              "        vertical-align: top;\n",
              "    }\n",
              "\n",
              "    .dataframe thead th {\n",
              "        text-align: right;\n",
              "    }\n",
              "</style>\n",
              "<table border=\"1\" class=\"dataframe\">\n",
              "  <thead>\n",
              "    <tr style=\"text-align: right;\">\n",
              "      <th></th>\n",
              "      <th>cvt_per_day</th>\n",
              "      <th>weighted_categorical_position</th>\n",
              "      <th>weighted_horizontal_poition</th>\n",
              "      <th>release_year</th>\n",
              "      <th>imdb_votes</th>\n",
              "      <th>budget</th>\n",
              "      <th>boxoffice</th>\n",
              "      <th>imdb_rating</th>\n",
              "      <th>duration_in_mins</th>\n",
              "      <th>metacritic_score</th>\n",
              "      <th>star_category</th>\n",
              "    </tr>\n",
              "  </thead>\n",
              "  <tbody>\n",
              "    <tr>\n",
              "      <th>cvt_per_day</th>\n",
              "      <td>1.000</td>\n",
              "      <td>-0.148</td>\n",
              "      <td>-0.302</td>\n",
              "      <td>0.046</td>\n",
              "      <td>0.298</td>\n",
              "      <td>0.316</td>\n",
              "      <td>0.312</td>\n",
              "      <td>0.059</td>\n",
              "      <td>0.152</td>\n",
              "      <td>0.249</td>\n",
              "      <td>0.247</td>\n",
              "    </tr>\n",
              "    <tr>\n",
              "      <th>weighted_categorical_position</th>\n",
              "      <td>-0.148</td>\n",
              "      <td>1.000</td>\n",
              "      <td>-0.084</td>\n",
              "      <td>-0.069</td>\n",
              "      <td>-0.064</td>\n",
              "      <td>-0.090</td>\n",
              "      <td>-0.074</td>\n",
              "      <td>-0.116</td>\n",
              "      <td>-0.174</td>\n",
              "      <td>-0.044</td>\n",
              "      <td>-0.123</td>\n",
              "    </tr>\n",
              "    <tr>\n",
              "      <th>weighted_horizontal_poition</th>\n",
              "      <td>-0.302</td>\n",
              "      <td>-0.084</td>\n",
              "      <td>1.000</td>\n",
              "      <td>0.027</td>\n",
              "      <td>-0.221</td>\n",
              "      <td>-0.211</td>\n",
              "      <td>-0.245</td>\n",
              "      <td>-0.162</td>\n",
              "      <td>-0.102</td>\n",
              "      <td>-0.255</td>\n",
              "      <td>-0.168</td>\n",
              "    </tr>\n",
              "    <tr>\n",
              "      <th>release_year</th>\n",
              "      <td>0.046</td>\n",
              "      <td>-0.069</td>\n",
              "      <td>0.027</td>\n",
              "      <td>1.000</td>\n",
              "      <td>-0.083</td>\n",
              "      <td>-0.040</td>\n",
              "      <td>-0.128</td>\n",
              "      <td>-0.199</td>\n",
              "      <td>-0.097</td>\n",
              "      <td>-0.167</td>\n",
              "      <td>-0.198</td>\n",
              "    </tr>\n",
              "    <tr>\n",
              "      <th>imdb_votes</th>\n",
              "      <td>0.298</td>\n",
              "      <td>-0.064</td>\n",
              "      <td>-0.221</td>\n",
              "      <td>-0.083</td>\n",
              "      <td>1.000</td>\n",
              "      <td>0.273</td>\n",
              "      <td>0.531</td>\n",
              "      <td>0.163</td>\n",
              "      <td>0.156</td>\n",
              "      <td>0.322</td>\n",
              "      <td>0.225</td>\n",
              "    </tr>\n",
              "    <tr>\n",
              "      <th>budget</th>\n",
              "      <td>0.316</td>\n",
              "      <td>-0.090</td>\n",
              "      <td>-0.211</td>\n",
              "      <td>-0.040</td>\n",
              "      <td>0.273</td>\n",
              "      <td>1.000</td>\n",
              "      <td>0.505</td>\n",
              "      <td>0.106</td>\n",
              "      <td>0.251</td>\n",
              "      <td>0.315</td>\n",
              "      <td>0.322</td>\n",
              "    </tr>\n",
              "    <tr>\n",
              "      <th>boxoffice</th>\n",
              "      <td>0.312</td>\n",
              "      <td>-0.074</td>\n",
              "      <td>-0.245</td>\n",
              "      <td>-0.128</td>\n",
              "      <td>0.531</td>\n",
              "      <td>0.505</td>\n",
              "      <td>1.000</td>\n",
              "      <td>0.164</td>\n",
              "      <td>0.226</td>\n",
              "      <td>0.465</td>\n",
              "      <td>0.322</td>\n",
              "    </tr>\n",
              "    <tr>\n",
              "      <th>imdb_rating</th>\n",
              "      <td>0.059</td>\n",
              "      <td>-0.116</td>\n",
              "      <td>-0.162</td>\n",
              "      <td>-0.199</td>\n",
              "      <td>0.163</td>\n",
              "      <td>0.106</td>\n",
              "      <td>0.164</td>\n",
              "      <td>1.000</td>\n",
              "      <td>0.344</td>\n",
              "      <td>0.347</td>\n",
              "      <td>0.192</td>\n",
              "    </tr>\n",
              "    <tr>\n",
              "      <th>duration_in_mins</th>\n",
              "      <td>0.152</td>\n",
              "      <td>-0.174</td>\n",
              "      <td>-0.102</td>\n",
              "      <td>-0.097</td>\n",
              "      <td>0.156</td>\n",
              "      <td>0.251</td>\n",
              "      <td>0.226</td>\n",
              "      <td>0.344</td>\n",
              "      <td>1.000</td>\n",
              "      <td>0.327</td>\n",
              "      <td>0.309</td>\n",
              "    </tr>\n",
              "    <tr>\n",
              "      <th>metacritic_score</th>\n",
              "      <td>0.249</td>\n",
              "      <td>-0.044</td>\n",
              "      <td>-0.255</td>\n",
              "      <td>-0.167</td>\n",
              "      <td>0.322</td>\n",
              "      <td>0.315</td>\n",
              "      <td>0.465</td>\n",
              "      <td>0.347</td>\n",
              "      <td>0.327</td>\n",
              "      <td>1.000</td>\n",
              "      <td>0.452</td>\n",
              "    </tr>\n",
              "    <tr>\n",
              "      <th>star_category</th>\n",
              "      <td>0.247</td>\n",
              "      <td>-0.123</td>\n",
              "      <td>-0.168</td>\n",
              "      <td>-0.198</td>\n",
              "      <td>0.225</td>\n",
              "      <td>0.322</td>\n",
              "      <td>0.322</td>\n",
              "      <td>0.192</td>\n",
              "      <td>0.309</td>\n",
              "      <td>0.452</td>\n",
              "      <td>1.000</td>\n",
              "    </tr>\n",
              "  </tbody>\n",
              "</table>\n",
              "</div>"
            ],
            "text/plain": [
              "                               cvt_per_day  ...  star_category\n",
              "cvt_per_day                          1.000  ...          0.247\n",
              "weighted_categorical_position       -0.148  ...         -0.123\n",
              "weighted_horizontal_poition         -0.302  ...         -0.168\n",
              "release_year                         0.046  ...         -0.198\n",
              "imdb_votes                           0.298  ...          0.225\n",
              "budget                               0.316  ...          0.322\n",
              "boxoffice                            0.312  ...          0.322\n",
              "imdb_rating                          0.059  ...          0.192\n",
              "duration_in_mins                     0.152  ...          0.309\n",
              "metacritic_score                     0.249  ...          0.452\n",
              "star_category                        0.247  ...          1.000\n",
              "\n",
              "[11 rows x 11 columns]"
            ]
          },
          "metadata": {
            "tags": []
          },
          "execution_count": 108
        }
      ]
    },
    {
      "cell_type": "markdown",
      "metadata": {
        "id": "JCI5irWKWaef",
        "colab_type": "text"
      },
      "source": [
        "## 1.3 Understand the categorical features¶ \n",
        "### 1.3.1 simple categorical features (import_id, mpaa, awards)"
      ]
    },
    {
      "cell_type": "code",
      "metadata": {
        "id": "V3j3VnQDWaei",
        "colab_type": "code",
        "outputId": "7b8aadfb-8f01-4a12-89d4-c08bd1997355",
        "colab": {
          "base_uri": "https://localhost:8080/",
          "height": 1000
        }
      },
      "source": [
        "sns.stripplot(x='import_id', y='cvt_per_day', data=TV, jitter=True)\n",
        "plt.show()\n",
        "print TV['import_id'].value_counts().reset_index()\n",
        "\n",
        "sns.stripplot(x='mpaa', y='cvt_per_day', data=TV, jitter=True)\n",
        "plt.show()\n",
        "print TV['mpaa'].value_counts().reset_index()\n",
        "\n",
        "sns.stripplot(x='awards', y='cvt_per_day', data=TV, jitter=True)\n",
        "plt.show()\n",
        "print TV['awards'].value_counts().reset_index()"
      ],
      "execution_count": 109,
      "outputs": [
        {
          "output_type": "display_data",
          "data": {
            "image/png": "[encoded data removed]",
            "text/plain": [
              "<Figure size 432x288 with 1 Axes>"
            ]
          },
          "metadata": {
            "tags": []
          }
        },
        {
          "output_type": "stream",
          "text": [
            "       index  import_id\n",
            "0      other       2963\n",
            "1  lionsgate        677\n",
            "2        mgm        445\n",
            "3  paramount        141\n"
          ],
          "name": "stdout"
        },
        {
          "output_type": "display_data",
          "data": {
            "image/png": "[encoded data removed]",
            "text/plain": [
              "<Figure size 432x288 with 1 Axes>"
            ]
          },
          "metadata": {
            "tags": []
          }
        },
        {
          "output_type": "stream",
          "text": [
            "      index  mpaa\n",
            "0  NotRated  2158\n",
            "1         R  1158\n",
            "2     PG-13   426\n",
            "3        PG   353\n",
            "4         G   125\n",
            "5     NC-17     6\n"
          ],
          "name": "stdout"
        },
        {
          "output_type": "display_data",
          "data": {
            "image/png": "[encoded data removed]",
            "text/plain": [
              "<Figure size 432x288 with 1 Axes>"
            ]
          },
          "metadata": {
            "tags": []
          }
        },
        {
          "output_type": "stream",
          "text": [
            "          index  awards\n",
            "0      no award    2569\n",
            "1   other award    1453\n",
            "2         Oscar     141\n",
            "3  Golden Globe      44\n",
            "4         BAFTA      19\n"
          ],
          "name": "stdout"
        }
      ]
    },
    {
      "cell_type": "markdown",
      "metadata": {
        "id": "8ku91SbuWaeq",
        "colab_type": "text"
      },
      "source": [
        "### 1.3.2 Distribution of splited genres\n",
        "Some videos belongs to more than 1 genre, the genre of each video is splited, this would help emphasize the effect of each individual genre."
      ]
    },
    {
      "cell_type": "code",
      "metadata": {
        "id": "RSH4wJSQWaes",
        "colab_type": "code",
        "outputId": "2983f793-dc84-42f6-f598-78888d632447",
        "colab": {
          "base_uri": "https://localhost:8080/",
          "height": 0
        }
      },
      "source": [
        "# generes explore, split the genre of each video\n",
        "gen_split = TV['genres'].str.get_dummies(sep=',').sum()\n",
        "gen_split.sort_values(ascending=False).plot.bar()"
      ],
      "execution_count": 110,
      "outputs": [
        {
          "output_type": "execute_result",
          "data": {
            "text/plain": [
              "<matplotlib.axes._subplots.AxesSubplot at 0x7f35d1e24750>"
            ]
          },
          "metadata": {
            "tags": []
          },
          "execution_count": 110
        },
        {
          "output_type": "display_data",
          "data": {
            "image/png": "[encoded data removed]",
            "text/plain": [
              "<Figure size 432x288 with 1 Axes>"
            ]
          },
          "metadata": {
            "tags": []
          }
        }
      ]
    },
    {
      "cell_type": "markdown",
      "metadata": {
        "id": "Qjeu8vdWWafc",
        "colab_type": "text"
      },
      "source": [
        "6 genres including Anime, Reality, Lifestyle, Adult, LGBT, Holiday have low frequencies. Therefore, during feature processing, they will be grouped together as: 'Misc_gen' in the feature 'genres'."
      ]
    },
    {
      "cell_type": "markdown",
      "metadata": {
        "id": "9VG5hIYpWafg",
        "colab_type": "text"
      },
      "source": [
        "### 1.3.3 Distribution of release_year\n",
        "The release year of video varies through a wide range. Considering the popularity of a video usually decays over time, the release_year should be bucketed based on the release_year range. "
      ]
    },
    {
      "cell_type": "code",
      "metadata": {
        "id": "zpHtR4SWWafr",
        "colab_type": "code",
        "outputId": "5f44b39d-6c76-4f30-a4da-281b90a8d731",
        "colab": {
          "base_uri": "https://localhost:8080/",
          "height": 0
        }
      },
      "source": [
        "plt.figure(1)\n",
        "plt.hist(TV['release_year'].values, bins = range(1910, 2017, 1), alpha = 0.5, color='r', label = 'release_year', normed = True)\n",
        "plt.legend(loc ='upper left')\n",
        "plt.title('Historgrams of release_year before data processing')\n",
        "plt.xlabel('release_year')\n",
        "plt.ylabel('density')\n",
        "plt.show()\n",
        "\n",
        "print TV['release_year'].describe(percentiles = [.1, .2, .3, .4,.5, .6, .7, .8, .9])"
      ],
      "execution_count": 111,
      "outputs": [
        {
          "output_type": "display_data",
          "data": {
            "image/png": "[encoded data removed]",
            "text/plain": [
              "<Figure size 432x288 with 1 Axes>"
            ]
          },
          "metadata": {
            "tags": []
          }
        },
        {
          "output_type": "stream",
          "text": [
            "count   4226.000\n",
            "mean    2001.057\n",
            "std       17.497\n",
            "min     1916.000\n",
            "10%     1974.000\n",
            "20%     1991.000\n",
            "30%     2001.000\n",
            "40%     2006.000\n",
            "50%     2008.000\n",
            "60%     2010.000\n",
            "70%     2012.000\n",
            "80%     2013.000\n",
            "90%     2014.000\n",
            "max     2017.000\n",
            "Name: release_year, dtype: float64\n"
          ],
          "name": "stdout"
        }
      ]
    },
    {
      "cell_type": "markdown",
      "metadata": {
        "id": "n8zWG4ojWaf3",
        "colab_type": "text"
      },
      "source": [
        "# Part 2: Feature Preprocessing"
      ]
    },
    {
      "cell_type": "markdown",
      "metadata": {
        "id": "R5NGigZzWaf-",
        "colab_type": "text"
      },
      "source": [
        "## 2.1 Categorical features\n",
        "There are 5 categorical features: import_id, mpaa, awards, genres, and release_year. There is no missing data in them. They can be converted into dummy/indicators.\n",
        "\n",
        "The first 3 have relatively small sub-types, they can be easily converted to dummies.\n",
        "\n",
        "The 'genres' have 27 different sub-types, 6 of them are rarely observed (refer to previous section). It's reasonable to group these 6 into 1. Note: a video may have more than one genre, in the feature preprocessing, all genres are handled individually.\n",
        "\n",
        "The release_year is bined into 10 buckets based on the year range between 1917 and 2017."
      ]
    },
    {
      "cell_type": "code",
      "metadata": {
        "id": "tywFMib3WagC",
        "colab_type": "code",
        "colab": {}
      },
      "source": [
        "# Convert 3 Categorical variables into dummy variables\n",
        "d_import_id = pd.get_dummies(TV['import_id']).astype(np.int64)\n",
        "d_mpaa = pd.get_dummies(TV['mpaa']).astype(np.int64)\n",
        "d_awards = pd.get_dummies(TV['awards']).astype(np.int64)"
      ],
      "execution_count": 0,
      "outputs": []
    },
    {
      "cell_type": "code",
      "metadata": {
        "id": "NGmz7RQPWag-",
        "colab_type": "code",
        "colab": {}
      },
      "source": [
        "# Convert 'genres' into dummy variables\n",
        "d_genres = pd.DataFrame() \n",
        "for genre in ['Action', 'Adult', 'Adventure', 'Animation', 'Anime', 'Comedy', 'Crime', 'Documentary', 'Drama'\n",
        "          , 'Fantasy', 'Foreign/International', 'Holiday', 'Horror', 'Independent', 'Kids & Family', 'LGBT', \n",
        "          'Lifestyle', 'Music', 'Musicals','Mystery', 'Reality', 'Romance','Sci-Fi', 'Sport', 'Thriller', 'War', \n",
        "          'Western']:\n",
        "    gen_lst = []\n",
        "    for i in range(4226):        \n",
        "        if genre in TV['genres'][i]:\n",
        "            gen_lst.append(1)    \n",
        "        else: \n",
        "            gen_lst.append(0)  \n",
        "    d_genres[genre] = pd.Series(gen_lst).values\n",
        "    \n",
        "# combine 6 smallest genres into a new genre 'Misc_gen'. Use bitwise operation '|', then drop these 6 columns.\n",
        "d_genres['Misc_gen'] = d_genres['Anime']|d_genres['Reality']|d_genres['Lifestyle']|d_genres['Adult']|d_genres['LGBT']|d_genres['Holiday']\n",
        "d_genres.drop(['Anime', 'Reality','Lifestyle', 'Adult','LGBT','Holiday'], inplace=True, axis=1)"
      ],
      "execution_count": 0,
      "outputs": []
    },
    {
      "cell_type": "code",
      "metadata": {
        "id": "j1BV4Z7gWahE",
        "colab_type": "code",
        "colab": {}
      },
      "source": [
        "# bin release_year and convert into dummies\n",
        "bin_year = [1916, 1974, 1991, 2001, 2006, 2008, 2010, 2012, 2013, 2014,2017]\n",
        "year_range = ['1916-1974', '1974-1991', '1991-2001', '2001-2006','2006-2008','2008-2010','2010-2012','2012-2013',\n",
        "              '2013-2014','2014-2017']\n",
        "year_bin = pd.cut(TV['release_year'], bin_year, labels=year_range)\n",
        "d_year = pd.get_dummies(year_bin).astype(np.int64)"
      ],
      "execution_count": 0,
      "outputs": []
    },
    {
      "cell_type": "code",
      "metadata": {
        "scrolled": true,
        "id": "FCxFYfdyWahS",
        "colab_type": "code",
        "outputId": "838aef67-68a2-4639-edc1-4a486ea500f4",
        "colab": {
          "base_uri": "https://localhost:8080/",
          "height": 245
        }
      },
      "source": [
        "# new dataframe, drop the previous categorical features, add new dummy variables, check for null\n",
        "TV_temp = TV.drop(['import_id', 'mpaa','awards','genres', 'release_year'], axis=1)\n",
        "newTV = pd.concat([TV_temp, d_import_id, d_mpaa, d_awards, d_genres, d_year], axis=1)\n",
        "print newTV.shape\n",
        "print pd.isnull(newTV).any(1).nonzero()[0]\n",
        "print newTV.head()\n",
        "newTV_0 = newTV.copy() # a copy of newTV"
      ],
      "execution_count": 115,
      "outputs": [
        {
          "output_type": "stream",
          "text": [
            "(4226, 58)\n",
            "[]\n",
            "   video_id  cvt_per_day  ...  2013-2014  2014-2017\n",
            "0    385504   307127.606  ...          0          0\n",
            "1    300175   270338.426  ...          0          0\n",
            "2    361899   256165.867  ...          0          0\n",
            "3    308314   196622.721  ...          0          0\n",
            "4    307201   159841.652  ...          0          0\n",
            "\n",
            "[5 rows x 58 columns]\n"
          ],
          "name": "stdout"
        },
        {
          "output_type": "stream",
          "text": [
            "/usr/local/lib/python2.7/dist-packages/ipykernel_launcher.py:4: FutureWarning: Series.nonzero() is deprecated and will be removed in a future version.Use Series.to_numpy().nonzero() instead\n",
            "  after removing the cwd from sys.path.\n"
          ],
          "name": "stderr"
        }
      ]
    },
    {
      "cell_type": "markdown",
      "metadata": {
        "id": "boa1ckgDWaiK",
        "colab_type": "text"
      },
      "source": [
        "Feature space holds 4226 observations and 58 features in total.\n",
        "\n",
        "There is NO null data. newTV_0 is kepted as the raw dataframe before any further feature processing, e.g. replace 0 with null, missing data fill etc. "
      ]
    },
    {
      "cell_type": "markdown",
      "metadata": {
        "id": "zRwdOG5EWaio",
        "colab_type": "text"
      },
      "source": [
        "## 2.2 Handling of missing data \n",
        "Among the 10 numerical features (not include video_id), 4 features have over 25% of missing values (shown as '0', which is not possible in reality): budget, boxoffice, metacritic_score, star_category. 2 features have less than 10% of missing data: imdb_votes, imdb_rating.\n",
        "\n",
        "There are 3242 samples have at least one missing data."
      ]
    },
    {
      "cell_type": "code",
      "metadata": {
        "id": "F9aTBN2nWaip",
        "colab_type": "code",
        "outputId": "3a00b819-98e2-44a5-9f84-5bd5292e7bbc",
        "colab": {
          "base_uri": "https://localhost:8080/",
          "height": 1000
        }
      },
      "source": [
        "# mark zero values as NaN\n",
        "newTV[['budget','boxoffice','metacritic_score', 'star_category','imdb_votes', 'imdb_rating']] = newTV[['budget','boxoffice','metacritic_score', 'star_category','imdb_votes', 'imdb_rating']].replace(0, np.nan)\n",
        "\n",
        "# count the number of NaN values in each column\n",
        "print newTV.isnull().sum()\n",
        "\n",
        "#count the number videos who have at least one missing data \n",
        "print 'videos having at least one null: ', newTV.isnull().any(axis=1).sum()"
      ],
      "execution_count": 116,
      "outputs": [
        {
          "output_type": "stream",
          "text": [
            "video_id                            0\n",
            "cvt_per_day                         0\n",
            "weighted_categorical_position       0\n",
            "weighted_horizontal_poition         0\n",
            "imdb_votes                        344\n",
            "budget                           2454\n",
            "boxoffice                        3194\n",
            "imdb_rating                       344\n",
            "duration_in_mins                    0\n",
            "metacritic_score                 3012\n",
            "star_category                    1846\n",
            "lionsgate                           0\n",
            "mgm                                 0\n",
            "other                               0\n",
            "paramount                           0\n",
            "G                                   0\n",
            "NC-17                               0\n",
            "NotRated                            0\n",
            "PG                                  0\n",
            "PG-13                               0\n",
            "R                                   0\n",
            "BAFTA                               0\n",
            "Golden Globe                        0\n",
            "Oscar                               0\n",
            "no award                            0\n",
            "other award                         0\n",
            "Action                              0\n",
            "Adventure                           0\n",
            "Animation                           0\n",
            "Comedy                              0\n",
            "Crime                               0\n",
            "Documentary                         0\n",
            "Drama                               0\n",
            "Fantasy                             0\n",
            "Foreign/International               0\n",
            "Horror                              0\n",
            "Independent                         0\n",
            "Kids & Family                       0\n",
            "Music                               0\n",
            "Musicals                            0\n",
            "Mystery                             0\n",
            "Romance                             0\n",
            "Sci-Fi                              0\n",
            "Sport                               0\n",
            "Thriller                            0\n",
            "War                                 0\n",
            "Western                             0\n",
            "Misc_gen                            0\n",
            "1916-1974                           0\n",
            "1974-1991                           0\n",
            "1991-2001                           0\n",
            "2001-2006                           0\n",
            "2006-2008                           0\n",
            "2008-2010                           0\n",
            "2010-2012                           0\n",
            "2012-2013                           0\n",
            "2013-2014                           0\n",
            "2014-2017                           0\n",
            "dtype: int64\n",
            "videos having at least one null:  3242\n"
          ],
          "name": "stdout"
        }
      ]
    },
    {
      "cell_type": "markdown",
      "metadata": {
        "id": "EiDVwEruWaix",
        "colab_type": "text"
      },
      "source": [
        "### 2.2.1 Filling missing data with mean value\n",
        "For imdb_voates and imdb_rating, they always show 'null' together, which is reasonable, since when a imdb_votes is missing, the imdb_rating is mostly also missing. For all 6 features with missiong data, the 1st attempt is to fill in with their mean value."
      ]
    },
    {
      "cell_type": "code",
      "metadata": {
        "id": "6kXXuZ6sWaiz",
        "colab_type": "code",
        "colab": {}
      },
      "source": [
        "# fill missing values with the column mean\n",
        "newTV_i1 = newTV.copy()\n",
        "newTV_i1['budget'].fillna(newTV_i1['budget'].mean(), inplace=True)\n",
        "newTV_i1['boxoffice'].fillna(newTV_i1['boxoffice'].mean(), inplace=True)\n",
        "newTV_i1['metacritic_score'].fillna(newTV_i1['metacritic_score'].mean(), inplace=True)\n",
        "newTV_i1['star_category'].fillna(newTV_i1['star_category'].mean(), inplace=True)\n",
        "newTV_i1['imdb_votes'].fillna(newTV_i1['imdb_votes'].mean(), inplace=True)\n",
        "newTV_i1['imdb_rating'].fillna(newTV_i1['imdb_rating'].mean(), inplace=True)"
      ],
      "execution_count": 0,
      "outputs": []
    },
    {
      "cell_type": "markdown",
      "metadata": {
        "id": "qGL0LZ10Wai5",
        "colab_type": "text"
      },
      "source": [
        "newTV_i1 have the feature processing as: fill the missing data in budget, boxoffice, metacritic_score, star_category, imdb_votes, imdb_rating with mean. It will be tested in the upcoming models. "
      ]
    },
    {
      "cell_type": "markdown",
      "metadata": {
        "id": "9HrrZcwTWai7",
        "colab_type": "text"
      },
      "source": [
        "## 2.3 Feature scaling\n",
        "The impact of different scaling methods on the model performance is small. In the following model training and selections, the standard scaling (sc) data is used. "
      ]
    },
    {
      "cell_type": "code",
      "metadata": {
        "id": "Q4-arPupWajE",
        "colab_type": "code",
        "outputId": "5074fd89-bcb0-4b45-de05-353b0b494f45",
        "colab": {
          "base_uri": "https://localhost:8080/",
          "height": 274
        }
      },
      "source": [
        "#Standard scaling\n",
        "scale_lst = ['weighted_categorical_position', 'weighted_horizontal_poition', 'budget','boxoffice', \n",
        "             'imdb_votes','imdb_rating','duration_in_mins', 'metacritic_score','star_category']\n",
        "newTV_sc = newTV_i1.copy()\n",
        "\n",
        "sc_scale = preprocessing.StandardScaler().fit(newTV_sc[scale_lst])\n",
        "newTV_sc[scale_lst] = sc_scale.transform(newTV_sc[scale_lst])\n",
        "\n",
        "newTV_sc.head()"
      ],
      "execution_count": 118,
      "outputs": [
        {
          "output_type": "stream",
          "text": [
            "/usr/local/lib/python2.7/dist-packages/ipykernel_launcher.py:6: DataConversionWarning: Data with input dtype int64, float64 were all converted to float64 by StandardScaler.\n",
            "  \n"
          ],
          "name": "stderr"
        },
        {
          "output_type": "execute_result",
          "data": {
            "text/html": [
              "<div>\n",
              "<style scoped>\n",
              "    .dataframe tbody tr th:only-of-type {\n",
              "        vertical-align: middle;\n",
              "    }\n",
              "\n",
              "    .dataframe tbody tr th {\n",
              "        vertical-align: top;\n",
              "    }\n",
              "\n",
              "    .dataframe thead th {\n",
              "        text-align: right;\n",
              "    }\n",
              "</style>\n",
              "<table border=\"1\" class=\"dataframe\">\n",
              "  <thead>\n",
              "    <tr style=\"text-align: right;\">\n",
              "      <th></th>\n",
              "      <th>video_id</th>\n",
              "      <th>cvt_per_day</th>\n",
              "      <th>weighted_categorical_position</th>\n",
              "      <th>weighted_horizontal_poition</th>\n",
              "      <th>imdb_votes</th>\n",
              "      <th>budget</th>\n",
              "      <th>boxoffice</th>\n",
              "      <th>imdb_rating</th>\n",
              "      <th>duration_in_mins</th>\n",
              "      <th>metacritic_score</th>\n",
              "      <th>star_category</th>\n",
              "      <th>lionsgate</th>\n",
              "      <th>mgm</th>\n",
              "      <th>other</th>\n",
              "      <th>paramount</th>\n",
              "      <th>G</th>\n",
              "      <th>NC-17</th>\n",
              "      <th>NotRated</th>\n",
              "      <th>PG</th>\n",
              "      <th>PG-13</th>\n",
              "      <th>R</th>\n",
              "      <th>BAFTA</th>\n",
              "      <th>Golden Globe</th>\n",
              "      <th>Oscar</th>\n",
              "      <th>no award</th>\n",
              "      <th>other award</th>\n",
              "      <th>Action</th>\n",
              "      <th>Adventure</th>\n",
              "      <th>Animation</th>\n",
              "      <th>Comedy</th>\n",
              "      <th>Crime</th>\n",
              "      <th>Documentary</th>\n",
              "      <th>Drama</th>\n",
              "      <th>Fantasy</th>\n",
              "      <th>Foreign/International</th>\n",
              "      <th>Horror</th>\n",
              "      <th>Independent</th>\n",
              "      <th>Kids &amp; Family</th>\n",
              "      <th>Music</th>\n",
              "      <th>Musicals</th>\n",
              "      <th>Mystery</th>\n",
              "      <th>Romance</th>\n",
              "      <th>Sci-Fi</th>\n",
              "      <th>Sport</th>\n",
              "      <th>Thriller</th>\n",
              "      <th>War</th>\n",
              "      <th>Western</th>\n",
              "      <th>Misc_gen</th>\n",
              "      <th>1916-1974</th>\n",
              "      <th>1974-1991</th>\n",
              "      <th>1991-2001</th>\n",
              "      <th>2001-2006</th>\n",
              "      <th>2006-2008</th>\n",
              "      <th>2008-2010</th>\n",
              "      <th>2010-2012</th>\n",
              "      <th>2012-2013</th>\n",
              "      <th>2013-2014</th>\n",
              "      <th>2014-2017</th>\n",
              "    </tr>\n",
              "  </thead>\n",
              "  <tbody>\n",
              "    <tr>\n",
              "      <th>0</th>\n",
              "      <td>385504</td>\n",
              "      <td>307127.606</td>\n",
              "      <td>-1.106</td>\n",
              "      <td>-2.116</td>\n",
              "      <td>1.984</td>\n",
              "      <td>1.470</td>\n",
              "      <td>4.696</td>\n",
              "      <td>0.542</td>\n",
              "      <td>1.079</td>\n",
              "      <td>-0.630</td>\n",
              "      <td>0.033</td>\n",
              "      <td>1</td>\n",
              "      <td>0</td>\n",
              "      <td>0</td>\n",
              "      <td>0</td>\n",
              "      <td>0</td>\n",
              "      <td>0</td>\n",
              "      <td>0</td>\n",
              "      <td>0</td>\n",
              "      <td>1</td>\n",
              "      <td>0</td>\n",
              "      <td>0</td>\n",
              "      <td>0</td>\n",
              "      <td>0</td>\n",
              "      <td>0</td>\n",
              "      <td>1</td>\n",
              "      <td>1</td>\n",
              "      <td>0</td>\n",
              "      <td>0</td>\n",
              "      <td>0</td>\n",
              "      <td>0</td>\n",
              "      <td>0</td>\n",
              "      <td>1</td>\n",
              "      <td>0</td>\n",
              "      <td>0</td>\n",
              "      <td>0</td>\n",
              "      <td>0</td>\n",
              "      <td>0</td>\n",
              "      <td>0</td>\n",
              "      <td>0</td>\n",
              "      <td>0</td>\n",
              "      <td>0</td>\n",
              "      <td>0</td>\n",
              "      <td>0</td>\n",
              "      <td>1</td>\n",
              "      <td>0</td>\n",
              "      <td>0</td>\n",
              "      <td>0</td>\n",
              "      <td>0</td>\n",
              "      <td>0</td>\n",
              "      <td>0</td>\n",
              "      <td>0</td>\n",
              "      <td>0</td>\n",
              "      <td>0</td>\n",
              "      <td>0</td>\n",
              "      <td>1</td>\n",
              "      <td>0</td>\n",
              "      <td>0</td>\n",
              "    </tr>\n",
              "    <tr>\n",
              "      <th>1</th>\n",
              "      <td>300175</td>\n",
              "      <td>270338.426</td>\n",
              "      <td>-1.106</td>\n",
              "      <td>-2.116</td>\n",
              "      <td>1.258</td>\n",
              "      <td>1.470</td>\n",
              "      <td>-1.022</td>\n",
              "      <td>0.542</td>\n",
              "      <td>0.257</td>\n",
              "      <td>-1.997</td>\n",
              "      <td>3.434</td>\n",
              "      <td>1</td>\n",
              "      <td>0</td>\n",
              "      <td>0</td>\n",
              "      <td>0</td>\n",
              "      <td>0</td>\n",
              "      <td>0</td>\n",
              "      <td>0</td>\n",
              "      <td>0</td>\n",
              "      <td>0</td>\n",
              "      <td>1</td>\n",
              "      <td>0</td>\n",
              "      <td>0</td>\n",
              "      <td>0</td>\n",
              "      <td>1</td>\n",
              "      <td>0</td>\n",
              "      <td>0</td>\n",
              "      <td>0</td>\n",
              "      <td>0</td>\n",
              "      <td>1</td>\n",
              "      <td>1</td>\n",
              "      <td>0</td>\n",
              "      <td>0</td>\n",
              "      <td>0</td>\n",
              "      <td>0</td>\n",
              "      <td>0</td>\n",
              "      <td>0</td>\n",
              "      <td>0</td>\n",
              "      <td>0</td>\n",
              "      <td>0</td>\n",
              "      <td>0</td>\n",
              "      <td>0</td>\n",
              "      <td>0</td>\n",
              "      <td>0</td>\n",
              "      <td>1</td>\n",
              "      <td>0</td>\n",
              "      <td>0</td>\n",
              "      <td>0</td>\n",
              "      <td>0</td>\n",
              "      <td>0</td>\n",
              "      <td>0</td>\n",
              "      <td>0</td>\n",
              "      <td>0</td>\n",
              "      <td>0</td>\n",
              "      <td>0</td>\n",
              "      <td>1</td>\n",
              "      <td>0</td>\n",
              "      <td>0</td>\n",
              "    </tr>\n",
              "    <tr>\n",
              "      <th>2</th>\n",
              "      <td>361899</td>\n",
              "      <td>256165.867</td>\n",
              "      <td>-1.106</td>\n",
              "      <td>-2.116</td>\n",
              "      <td>6.043</td>\n",
              "      <td>3.108</td>\n",
              "      <td>3.898</td>\n",
              "      <td>1.100</td>\n",
              "      <td>1.243</td>\n",
              "      <td>0.327</td>\n",
              "      <td>2.102</td>\n",
              "      <td>0</td>\n",
              "      <td>0</td>\n",
              "      <td>1</td>\n",
              "      <td>0</td>\n",
              "      <td>0</td>\n",
              "      <td>0</td>\n",
              "      <td>0</td>\n",
              "      <td>0</td>\n",
              "      <td>0</td>\n",
              "      <td>1</td>\n",
              "      <td>0</td>\n",
              "      <td>0</td>\n",
              "      <td>0</td>\n",
              "      <td>0</td>\n",
              "      <td>1</td>\n",
              "      <td>0</td>\n",
              "      <td>0</td>\n",
              "      <td>0</td>\n",
              "      <td>0</td>\n",
              "      <td>1</td>\n",
              "      <td>0</td>\n",
              "      <td>1</td>\n",
              "      <td>0</td>\n",
              "      <td>0</td>\n",
              "      <td>0</td>\n",
              "      <td>0</td>\n",
              "      <td>0</td>\n",
              "      <td>0</td>\n",
              "      <td>0</td>\n",
              "      <td>0</td>\n",
              "      <td>0</td>\n",
              "      <td>0</td>\n",
              "      <td>0</td>\n",
              "      <td>0</td>\n",
              "      <td>0</td>\n",
              "      <td>0</td>\n",
              "      <td>0</td>\n",
              "      <td>0</td>\n",
              "      <td>0</td>\n",
              "      <td>0</td>\n",
              "      <td>0</td>\n",
              "      <td>0</td>\n",
              "      <td>0</td>\n",
              "      <td>1</td>\n",
              "      <td>0</td>\n",
              "      <td>0</td>\n",
              "      <td>0</td>\n",
              "    </tr>\n",
              "    <tr>\n",
              "      <th>3</th>\n",
              "      <td>308314</td>\n",
              "      <td>196622.721</td>\n",
              "      <td>-0.780</td>\n",
              "      <td>-2.032</td>\n",
              "      <td>11.077</td>\n",
              "      <td>1.470</td>\n",
              "      <td>0.767</td>\n",
              "      <td>1.309</td>\n",
              "      <td>1.952</td>\n",
              "      <td>5.250</td>\n",
              "      <td>-0.063</td>\n",
              "      <td>1</td>\n",
              "      <td>0</td>\n",
              "      <td>0</td>\n",
              "      <td>0</td>\n",
              "      <td>0</td>\n",
              "      <td>0</td>\n",
              "      <td>0</td>\n",
              "      <td>0</td>\n",
              "      <td>0</td>\n",
              "      <td>1</td>\n",
              "      <td>0</td>\n",
              "      <td>0</td>\n",
              "      <td>1</td>\n",
              "      <td>0</td>\n",
              "      <td>0</td>\n",
              "      <td>1</td>\n",
              "      <td>0</td>\n",
              "      <td>0</td>\n",
              "      <td>0</td>\n",
              "      <td>0</td>\n",
              "      <td>1</td>\n",
              "      <td>1</td>\n",
              "      <td>0</td>\n",
              "      <td>0</td>\n",
              "      <td>0</td>\n",
              "      <td>0</td>\n",
              "      <td>0</td>\n",
              "      <td>0</td>\n",
              "      <td>0</td>\n",
              "      <td>1</td>\n",
              "      <td>0</td>\n",
              "      <td>0</td>\n",
              "      <td>0</td>\n",
              "      <td>1</td>\n",
              "      <td>1</td>\n",
              "      <td>0</td>\n",
              "      <td>0</td>\n",
              "      <td>0</td>\n",
              "      <td>0</td>\n",
              "      <td>0</td>\n",
              "      <td>0</td>\n",
              "      <td>1</td>\n",
              "      <td>0</td>\n",
              "      <td>0</td>\n",
              "      <td>0</td>\n",
              "      <td>0</td>\n",
              "      <td>0</td>\n",
              "    </tr>\n",
              "    <tr>\n",
              "      <th>4</th>\n",
              "      <td>307201</td>\n",
              "      <td>159841.652</td>\n",
              "      <td>-1.106</td>\n",
              "      <td>-2.116</td>\n",
              "      <td>1.258</td>\n",
              "      <td>3.290</td>\n",
              "      <td>-0.265</td>\n",
              "      <td>0.472</td>\n",
              "      <td>0.758</td>\n",
              "      <td>-2.544</td>\n",
              "      <td>3.029</td>\n",
              "      <td>1</td>\n",
              "      <td>0</td>\n",
              "      <td>0</td>\n",
              "      <td>0</td>\n",
              "      <td>0</td>\n",
              "      <td>0</td>\n",
              "      <td>0</td>\n",
              "      <td>0</td>\n",
              "      <td>0</td>\n",
              "      <td>1</td>\n",
              "      <td>0</td>\n",
              "      <td>0</td>\n",
              "      <td>0</td>\n",
              "      <td>0</td>\n",
              "      <td>1</td>\n",
              "      <td>0</td>\n",
              "      <td>0</td>\n",
              "      <td>0</td>\n",
              "      <td>0</td>\n",
              "      <td>1</td>\n",
              "      <td>1</td>\n",
              "      <td>0</td>\n",
              "      <td>0</td>\n",
              "      <td>0</td>\n",
              "      <td>0</td>\n",
              "      <td>0</td>\n",
              "      <td>0</td>\n",
              "      <td>0</td>\n",
              "      <td>0</td>\n",
              "      <td>1</td>\n",
              "      <td>0</td>\n",
              "      <td>0</td>\n",
              "      <td>0</td>\n",
              "      <td>1</td>\n",
              "      <td>0</td>\n",
              "      <td>0</td>\n",
              "      <td>0</td>\n",
              "      <td>0</td>\n",
              "      <td>0</td>\n",
              "      <td>0</td>\n",
              "      <td>0</td>\n",
              "      <td>0</td>\n",
              "      <td>0</td>\n",
              "      <td>0</td>\n",
              "      <td>1</td>\n",
              "      <td>0</td>\n",
              "      <td>0</td>\n",
              "    </tr>\n",
              "  </tbody>\n",
              "</table>\n",
              "</div>"
            ],
            "text/plain": [
              "   video_id  cvt_per_day  ...  2013-2014  2014-2017\n",
              "0    385504   307127.606  ...          0          0\n",
              "1    300175   270338.426  ...          0          0\n",
              "2    361899   256165.867  ...          0          0\n",
              "3    308314   196622.721  ...          0          0\n",
              "4    307201   159841.652  ...          0          0\n",
              "\n",
              "[5 rows x 58 columns]"
            ]
          },
          "metadata": {
            "tags": []
          },
          "execution_count": 118
        }
      ]
    },
    {
      "cell_type": "code",
      "metadata": {
        "id": "94wK4oc4Wajg",
        "colab_type": "code",
        "colab": {}
      },
      "source": [
        "# MinMax scaling\n",
        "newTV_mm = newTV_i1.copy()\n",
        "mm_scale = preprocessing.MinMaxScaler().fit(newTV_mm[scale_lst])\n",
        "newTV_mm[scale_lst] = mm_scale.transform(newTV_mm[scale_lst])"
      ],
      "execution_count": 0,
      "outputs": []
    },
    {
      "cell_type": "code",
      "metadata": {
        "id": "96NBnTuvWajm",
        "colab_type": "code",
        "colab": {}
      },
      "source": [
        "# Robust scaling\n",
        "newTV_rs = newTV_i1.copy()\n",
        "rs_scale = preprocessing.RobustScaler().fit(newTV_mm[scale_lst])\n",
        "newTV_rs[scale_lst] = rs_scale.transform(newTV_rs[scale_lst])"
      ],
      "execution_count": 0,
      "outputs": []
    },
    {
      "cell_type": "markdown",
      "metadata": {
        "id": "zfN7xM9XWajr",
        "colab_type": "text"
      },
      "source": [
        "# Part 3: Model Training \n",
        "\n",
        "85% of the samples will be used to train all the models, and 15% is reserved for test the models in next section."
      ]
    },
    {
      "cell_type": "code",
      "metadata": {
        "id": "1KJN4PRQWajt",
        "colab_type": "code",
        "colab": {}
      },
      "source": [
        "# The 15% test data will kept aside, they won't be seen by the models until final test/comparison.\n",
        "from sklearn.model_selection import train_test_split\n",
        "\n",
        "model_train, model_test = train_test_split(newTV_sc, test_size=0.15, random_state = 3)\n",
        "model_train_x = model_train.drop(['video_id', 'cvt_per_day'], axis = 1)\n",
        "model_test_x = model_test.drop(['video_id', 'cvt_per_day'], axis = 1)\n",
        "model_train_y = model_train['cvt_per_day']\n",
        "model_test_y = model_test['cvt_per_day']"
      ],
      "execution_count": 0,
      "outputs": []
    },
    {
      "cell_type": "markdown",
      "metadata": {
        "id": "ZJ3-la2WWaj0",
        "colab_type": "text"
      },
      "source": [
        "## 3.1 Linear models"
      ]
    },
    {
      "cell_type": "markdown",
      "metadata": {
        "id": "Tn6Wcy_SWaj1",
        "colab_type": "text"
      },
      "source": [
        "###  3.1.1 Lasso linear regression\n",
        "#### 1) All featuers are linear"
      ]
    },
    {
      "cell_type": "code",
      "metadata": {
        "id": "oo9tcs_yWaj3",
        "colab_type": "code",
        "outputId": "71ce4cd4-c247-4b58-deaa-0e8ad6cff8b7",
        "colab": {
          "base_uri": "https://localhost:8080/",
          "height": 0
        }
      },
      "source": [
        "from sklearn.linear_model import LinearRegression, Lasso, Ridge\n",
        "from sklearn.metrics import mean_squared_error, r2_score\n",
        "from math import sqrt\n",
        "from sklearn import linear_model\n",
        "\n",
        "lr_train, lr_validate = train_test_split(model_train, test_size=0.15, random_state = 0)\n",
        "\n",
        "lr_train_x = lr_train.drop(['video_id', 'cvt_per_day'], axis = 1)\n",
        "lr_validate_x = lr_validate.drop(['video_id', 'cvt_per_day'], axis = 1)\n",
        "lr_train_y = lr_train['cvt_per_day']\n",
        "lr_validate_y = lr_validate['cvt_per_day']\n",
        "\n",
        "alphas = np.logspace (-0.3, 2.5, num=150)\n",
        "# alphas= [0.000000001]\n",
        "scores = np.empty_like(alphas)\n",
        "opt_a = float('-inf')\n",
        "max_score = float('-inf')\n",
        "for i, a in enumerate(alphas):\n",
        "    lasso = linear_model.Lasso()\n",
        "    lasso.set_params(alpha = a)\n",
        "    lasso.fit(lr_train_x, lr_train_y)\n",
        "    scores[i] = lasso.score(lr_validate_x, lr_validate_y)\n",
        "    if scores[i] > max_score:\n",
        "        max_score = scores[i]\n",
        "        opt_a = a\n",
        "        lasso_save = lasso\n",
        "plt.plot(alphas, scores, color='b', linestyle='dashed', marker='o',markerfacecolor='blue', markersize=6)\n",
        "plt.xlabel('alpha')\n",
        "plt.ylabel('score')\n",
        "plt.grid(True)\n",
        "plt.title('score vs. alpha')\n",
        "plt.show()\n",
        "print 'The optimaized alpha and score of Lasso linear is: ', opt_a, max_score"
      ],
      "execution_count": 122,
      "outputs": [
        {
          "output_type": "display_data",
          "data": {
            "image/png": "[encoded data removed]",
            "text/plain": [
              "<Figure size 432x288 with 1 Axes>"
            ]
          },
          "metadata": {
            "tags": []
          }
        },
        {
          "output_type": "stream",
          "text": [
            "The optimaized alpha and score of Lasso linear is:  122.06107238906554 0.36457853302954246\n"
          ],
          "name": "stdout"
        }
      ]
    },
    {
      "cell_type": "code",
      "metadata": {
        "id": "g-WavajXWaj-",
        "colab_type": "code",
        "outputId": "af3eb642-0a9b-482d-8a11-e190edd1cb55",
        "colab": {
          "base_uri": "https://localhost:8080/",
          "height": 0
        }
      },
      "source": [
        "# combine the validate data and training data, use the optimal alpha, re-train the model\n",
        "lasso_f = linear_model.Lasso()\n",
        "lasso_f.set_params(alpha = opt_a)\n",
        "lasso_f.fit(model_train_x, model_train_y)\n",
        "\n",
        "# lasso_f is the Lasso model (linear feature), to be tested with final test data."
      ],
      "execution_count": 123,
      "outputs": [
        {
          "output_type": "execute_result",
          "data": {
            "text/plain": [
              "Lasso(alpha=122.06107238906554, copy_X=True, fit_intercept=True,\n",
              "   max_iter=1000, normalize=False, positive=False, precompute=False,\n",
              "   random_state=None, selection='cyclic', tol=0.0001, warm_start=False)"
            ]
          },
          "metadata": {
            "tags": []
          },
          "execution_count": 123
        }
      ]
    },
    {
      "cell_type": "markdown",
      "metadata": {
        "id": "g9x5ZSn_WakD",
        "colab_type": "text"
      },
      "source": [
        "#### 2) Ploynomial features"
      ]
    },
    {
      "cell_type": "code",
      "metadata": {
        "id": "SgRMVx_wWakS",
        "colab_type": "code",
        "outputId": "6ee6f265-d4ab-4765-b64c-1c95d22876c3",
        "colab": {
          "base_uri": "https://localhost:8080/",
          "height": 0
        }
      },
      "source": [
        "# combine the validate data and training data, use the optimal alpha, re-train the model\n",
        "lr_train_xp1 = poly.fit_transform(model_train_x)\n",
        "\n",
        "lasso_fp = linear_model.Lasso()\n",
        "lasso_fp.set_params(alpha = opt_a)\n",
        "lasso_fp.fit(lr_train_xp1, model_train_y)\n",
        "\n",
        "# lasso_fp is the Lasso model (polynomial feature), to be tested with test data."
      ],
      "execution_count": 124,
      "outputs": [
        {
          "output_type": "execute_result",
          "data": {
            "text/plain": [
              "Lasso(alpha=122.06107238906554, copy_X=True, fit_intercept=True,\n",
              "   max_iter=1000, normalize=False, positive=False, precompute=False,\n",
              "   random_state=None, selection='cyclic', tol=0.0001, warm_start=False)"
            ]
          },
          "metadata": {
            "tags": []
          },
          "execution_count": 124
        }
      ]
    },
    {
      "cell_type": "markdown",
      "metadata": {
        "id": "4rD8o-jOWakX",
        "colab_type": "text"
      },
      "source": [
        "### 3.1.2 Ridge linear regression\n",
        "#### 1) All featuers are linear"
      ]
    },
    {
      "cell_type": "code",
      "metadata": {
        "id": "ooOJ0NGVWakZ",
        "colab_type": "code",
        "outputId": "853c716f-2f1a-46e0-c338-84d0870adc14",
        "colab": {
          "base_uri": "https://localhost:8080/",
          "height": 0
        }
      },
      "source": [
        "# Use the same training data set as Lasso (linear features)\n",
        "lr_train, lr_validate = train_test_split(model_train, test_size=0.15, random_state = 0)\n",
        "\n",
        "alphas = np.logspace (-10, 3, num=150)\n",
        "# alphas= [0.000000001]\n",
        "scores = np.empty_like(alphas)\n",
        "opt_a = float('-inf')\n",
        "max_score = float('-inf')\n",
        "for i, a in enumerate(alphas):\n",
        "    ridge = linear_model.Ridge()\n",
        "    ridge.set_params(alpha = a)\n",
        "    ridge.fit(lr_train_x, lr_train_y)\n",
        "    scores[i] = ridge.score(lr_validate_x, lr_validate_y)\n",
        "    if scores[i] > max_score:\n",
        "        max_score = scores[i]\n",
        "        opt_a = a\n",
        "        ridge_save = ridge\n",
        "plt.plot(alphas, scores, color='r', linestyle='dashed', marker='o',markerfacecolor='r', markersize=6)\n",
        "plt.xlabel('alpha')\n",
        "plt.ylabel('score')\n",
        "plt.grid(True)\n",
        "plt.title('score vs. alpha')\n",
        "plt.show()\n",
        "print max_score, opt_a\n"
      ],
      "execution_count": 125,
      "outputs": [
        {
          "output_type": "display_data",
          "data": {
            "image/png": "[encoded data removed]",
            "text/plain": [
              "<Figure size 432x288 with 1 Axes>"
            ]
          },
          "metadata": {
            "tags": []
          }
        },
        {
          "output_type": "stream",
          "text": [
            "0.35284634333100784 163.97026580002054\n"
          ],
          "name": "stdout"
        }
      ]
    },
    {
      "cell_type": "code",
      "metadata": {
        "id": "Vwr5iEzTWake",
        "colab_type": "code",
        "outputId": "fd111da8-f3fd-48b3-dd50-6645163e763e",
        "colab": {
          "base_uri": "https://localhost:8080/",
          "height": 0
        }
      },
      "source": [
        "# add the 15% validate data, use the optimal alpha, re-train the model\n",
        "\n",
        "ridge_f = linear_model.Ridge()\n",
        "ridge_f.set_params(alpha = opt_a)\n",
        "ridge_f.fit(model_train_x, model_train_y)\n",
        "\n",
        "# ridge_f is the Ridge model (linear feature), to be tested with test data."
      ],
      "execution_count": 126,
      "outputs": [
        {
          "output_type": "execute_result",
          "data": {
            "text/plain": [
              "Ridge(alpha=163.97026580002054, copy_X=True, fit_intercept=True,\n",
              "   max_iter=None, normalize=False, random_state=None, solver='auto',\n",
              "   tol=0.001)"
            ]
          },
          "metadata": {
            "tags": []
          },
          "execution_count": 126
        }
      ]
    },
    {
      "cell_type": "markdown",
      "metadata": {
        "id": "CRo9a0g5Wakj",
        "colab_type": "text"
      },
      "source": [
        "#### 2) Polynomial featuers"
      ]
    },
    {
      "cell_type": "code",
      "metadata": {
        "id": "FzirBw4nWakk",
        "colab_type": "code",
        "outputId": "949fda1f-5f0e-48f4-89ac-926fc179acac",
        "colab": {
          "base_uri": "https://localhost:8080/",
          "height": 0
        }
      },
      "source": [
        "# Use the same training data set as Lasso (polynomial features)\n",
        "from sklearn.preprocessing import PolynomialFeatures\n",
        "poly = PolynomialFeatures(2)\n",
        "\n",
        "lr_train, lr_validate = train_test_split(model_train, test_size=0.15, random_state = 0)\n",
        "\n",
        "lr_train_x = lr_train.drop(['video_id', 'cvt_per_day'], axis = 1)\n",
        "lr_validate_x = lr_validate.drop(['video_id', 'cvt_per_day'], axis = 1)\n",
        "lr_train_y = lr_train['cvt_per_day']\n",
        "lr_validate_y = lr_validate['cvt_per_day']\n",
        "\n",
        "lr_train_xp = poly.fit_transform(lr_train_x)\n",
        "lr_validate_xp = poly.fit_transform(lr_validate_x)\n",
        "\n",
        "alphas = np.logspace (-2, 2, num=20)\n",
        "# alphas= [1]\n",
        "scores = np.empty_like(alphas)\n",
        "opt_a = float('-inf')\n",
        "max_score = float('-inf')\n",
        "for i, a in enumerate(alphas):\n",
        "    ridge = linear_model.Ridge()\n",
        "    ridge.set_params(alpha = a)\n",
        "    ridge.fit(lr_train_xp, lr_train_y)\n",
        "    scores[i] = ridge.score(lr_validate_xp, lr_validate_y)\n",
        "    if scores[i] > max_score:\n",
        "        max_score = scores[i]\n",
        "        opt_a = a\n",
        "        ridge_save = ridge\n",
        "        \n",
        "plt.plot(alphas, scores, color='brown', linestyle='dashed', marker='o',markerfacecolor='g', markersize=6)\n",
        "plt.xlabel('alpha')\n",
        "plt.ylabel('score')\n",
        "plt.grid(True)\n",
        "plt.title('score vs. alpha')\n",
        "plt.show()\n",
        "print max_score, opt_a\n",
        "\n"
      ],
      "execution_count": 127,
      "outputs": [
        {
          "output_type": "display_data",
          "data": {
            "image/png": "[encoded data removed]",
            "text/plain": [
              "<Figure size 432x288 with 1 Axes>"
            ]
          },
          "metadata": {
            "tags": []
          }
        },
        {
          "output_type": "stream",
          "text": [
            "0.4718899469062102 14.38449888287663\n"
          ],
          "name": "stdout"
        }
      ]
    },
    {
      "cell_type": "code",
      "metadata": {
        "id": "ZPyVKrfmWakr",
        "colab_type": "code",
        "outputId": "cf4088f1-9db8-4441-fac4-c3178dbd1cc0",
        "colab": {
          "base_uri": "https://localhost:8080/",
          "height": 0
        }
      },
      "source": [
        "# add the 15% validate data, use the optimal alpha, re-train the model\n",
        "lr_train_xp1 = poly.fit_transform(model_train_x)\n",
        "\n",
        "ridge_fp = linear_model.Ridge()\n",
        "ridge_fp.set_params(alpha = opt_a)\n",
        "ridge_fp.fit(lr_train_xp1, model_train_y)\n",
        "\n",
        "# ridge_fp is the Ridge model (polynomial feature), to be tested with test data."
      ],
      "execution_count": 128,
      "outputs": [
        {
          "output_type": "execute_result",
          "data": {
            "text/plain": [
              "Ridge(alpha=14.38449888287663, copy_X=True, fit_intercept=True, max_iter=None,\n",
              "   normalize=False, random_state=None, solver='auto', tol=0.001)"
            ]
          },
          "metadata": {
            "tags": []
          },
          "execution_count": 128
        }
      ]
    },
    {
      "cell_type": "markdown",
      "metadata": {
        "id": "CBjR9L0BWakx",
        "colab_type": "text"
      },
      "source": [
        "## 3.2: Non-linear model\n",
        "Random forest with Gridsearch cross-validation is used. The 'mean_scores' is used to narrow down the paramenters of n_estimator (number of trees in the forest) and Max_depth (maximum depth of the tree)."
      ]
    },
    {
      "cell_type": "markdown",
      "metadata": {
        "id": "y1I3-dNMWakz",
        "colab_type": "text"
      },
      "source": [
        "### Random forest"
      ]
    },
    {
      "cell_type": "code",
      "metadata": {
        "id": "BRIKH5XrWak0",
        "colab_type": "code",
        "outputId": "5ef787ea-319a-4533-ff5b-9bbc5d6a349d",
        "colab": {
          "base_uri": "https://localhost:8080/",
          "height": 0
        }
      },
      "source": [
        "from sklearn.ensemble import RandomForestRegressor\n",
        "from sklearn.model_selection import cross_val_score\n",
        "from sklearn.model_selection import cross_validate\n",
        "from sklearn.model_selection import GridSearchCV\n",
        "\n",
        "rf_train, rf_test = train_test_split(model_train, test_size=0.15, random_state = 0)\n",
        "\n",
        "rf_train_x = rf_train.drop(['video_id', 'cvt_per_day'], axis = 1)\n",
        "rf_test_x = rf_test.drop(['video_id', 'cvt_per_day'], axis = 1)\n",
        "rf_train_y = rf_train['cvt_per_day']\n",
        "rf_test_y = rf_test['cvt_per_day']\n",
        "\n",
        "param_grid = {\n",
        "                 'n_estimators': [54, 55, 56, 57, 58, 59, 60, 62],\n",
        "                 'max_depth': [12, 13, 14, 15, 16, 17]\n",
        "             }\n",
        "\n",
        "rf = RandomForestRegressor(random_state=2, max_features = 'sqrt')\n",
        "grid_rf = GridSearchCV(rf, param_grid, cv=5)\n",
        "grid_rf.fit(rf_train_x, rf_train_y)"
      ],
      "execution_count": 129,
      "outputs": [
        {
          "output_type": "execute_result",
          "data": {
            "text/plain": [
              "GridSearchCV(cv=5, error_score='raise-deprecating',\n",
              "       estimator=RandomForestRegressor(bootstrap=True, criterion='mse', max_depth=None,\n",
              "           max_features='sqrt', max_leaf_nodes=None,\n",
              "           min_impurity_decrease=0.0, min_impurity_split=None,\n",
              "           min_samples_leaf=1, min_samples_split=2,\n",
              "           min_weight_fraction_leaf=0.0, n_estimators='warn', n_jobs=None,\n",
              "           oob_score=False, random_state=2, verbose=0, warm_start=False),\n",
              "       fit_params=None, iid='warn', n_jobs=None,\n",
              "       param_grid={'n_estimators': [54, 55, 56, 57, 58, 59, 60, 62], 'max_depth': [12, 13, 14, 15, 16, 17]},\n",
              "       pre_dispatch='2*n_jobs', refit=True, return_train_score='warn',\n",
              "       scoring=None, verbose=0)"
            ]
          },
          "metadata": {
            "tags": []
          },
          "execution_count": 129
        }
      ]
    },
    {
      "cell_type": "code",
      "metadata": {
        "id": "zlqBzXPsWak5",
        "colab_type": "code",
        "outputId": "22709d43-839b-4d7b-8627-4cfb1c7688aa",
        "colab": {
          "base_uri": "https://localhost:8080/",
          "height": 0
        }
      },
      "source": [
        "grid_rf.best_params_ "
      ],
      "execution_count": 130,
      "outputs": [
        {
          "output_type": "execute_result",
          "data": {
            "text/plain": [
              "{'max_depth': 14, 'n_estimators': 55}"
            ]
          },
          "metadata": {
            "tags": []
          },
          "execution_count": 130
        }
      ]
    },
    {
      "cell_type": "code",
      "metadata": {
        "id": "Xem5tbsEWak-",
        "colab_type": "code",
        "outputId": "e94340c8-7213-4821-e193-7e312dcd58df",
        "colab": {
          "base_uri": "https://localhost:8080/",
          "height": 0
        }
      },
      "source": [
        "grid_rf.cv_results_"
      ],
      "execution_count": 131,
      "outputs": [
        {
          "output_type": "execute_result",
          "data": {
            "text/plain": [
              "{'mean_fit_time': array([0.20714903, 0.20154004, 0.20511603, 0.20901318, 0.21364622,\n",
              "        0.21673541, 0.22162781, 0.25129642, 0.20630546, 0.21614609,\n",
              "        0.21911359, 0.22299156, 0.22954674, 0.23029342, 0.23476739,\n",
              "        0.2437778 , 0.21864519, 0.22385478, 0.22633843, 0.23439341,\n",
              "        0.23695998, 0.24157844, 0.24363856, 0.25230203, 0.23241916,\n",
              "        0.23313484, 0.23803902, 0.24244876, 0.24984393, 0.24981022,\n",
              "        0.2558156 , 0.26155953, 0.23711705, 0.24243956, 0.26528244,\n",
              "        0.25116835, 0.25519805, 0.260814  , 0.26531363, 0.27228489,\n",
              "        0.24966221, 0.25010676, 0.25666876, 0.26012254, 0.26537971,\n",
              "        0.27022381, 0.27712107, 0.28294878]),\n",
              " 'mean_score_time': array([0.00921569, 0.00919237, 0.00926075, 0.00946002, 0.00961676,\n",
              "        0.00991559, 0.01007538, 0.00997863, 0.00946136, 0.00995908,\n",
              "        0.01006265, 0.01029487, 0.01082888, 0.01045222, 0.01044502,\n",
              "        0.01062064, 0.0099318 , 0.0105176 , 0.01040282, 0.01101761,\n",
              "        0.01109505, 0.01080542, 0.01096087, 0.01157331, 0.0108068 ,\n",
              "        0.01098742, 0.01159983, 0.01159363, 0.01106281, 0.01184382,\n",
              "        0.01148248, 0.01160426, 0.0113379 , 0.0111814 , 0.01206741,\n",
              "        0.01177726, 0.01155   , 0.01192122, 0.01187277, 0.01223145,\n",
              "        0.01234794, 0.01143203, 0.01161423, 0.01237936, 0.01278048,\n",
              "        0.01225996, 0.01230474, 0.01376777]),\n",
              " 'mean_test_score': array([0.52765939, 0.52986418, 0.5310042 , 0.52942151, 0.5291002 ,\n",
              "        0.52972028, 0.52974572, 0.52814607, 0.51095009, 0.51423648,\n",
              "        0.51531617, 0.51322975, 0.51401159, 0.51410111, 0.5130039 ,\n",
              "        0.50814567, 0.53509243, 0.53745196, 0.53705252, 0.53336597,\n",
              "        0.53629431, 0.53357212, 0.53394696, 0.53309336, 0.50309897,\n",
              "        0.505758  , 0.50765854, 0.50614838, 0.50713192, 0.50609285,\n",
              "        0.50732988, 0.50571725, 0.5125176 , 0.51568448, 0.51806781,\n",
              "        0.51541851, 0.51626624, 0.51653358, 0.51394871, 0.51136621,\n",
              "        0.49176898, 0.49572964, 0.49653448, 0.49521617, 0.49923811,\n",
              "        0.49997921, 0.499859  , 0.49814625]),\n",
              " 'mean_train_score': array([0.90952734, 0.9097996 , 0.91103047, 0.91204881, 0.91180765,\n",
              "        0.91118318, 0.91231937, 0.91297582, 0.9089396 , 0.9093938 ,\n",
              "        0.91016001, 0.91145628, 0.91128566, 0.91092792, 0.91199365,\n",
              "        0.91277472, 0.91528953, 0.91560275, 0.91620456, 0.91743465,\n",
              "        0.91765099, 0.91739401, 0.91840149, 0.91903335, 0.91722305,\n",
              "        0.9175435 , 0.91807264, 0.91942746, 0.91925303, 0.91865398,\n",
              "        0.91986497, 0.9205178 , 0.91790917, 0.91825002, 0.91889307,\n",
              "        0.9202358 , 0.92053466, 0.91975095, 0.92109274, 0.92193618,\n",
              "        0.91624103, 0.91679032, 0.91757211, 0.91890146, 0.91899538,\n",
              "        0.91850606, 0.91986045, 0.92068292]),\n",
              " 'param_max_depth': masked_array(data=[12, 12, 12, 12, 12, 12, 12, 12, 13, 13, 13, 13, 13, 13,\n",
              "                    13, 13, 14, 14, 14, 14, 14, 14, 14, 14, 15, 15, 15, 15,\n",
              "                    15, 15, 15, 15, 16, 16, 16, 16, 16, 16, 16, 16, 17, 17,\n",
              "                    17, 17, 17, 17, 17, 17],\n",
              "              mask=[False, False, False, False, False, False, False, False,\n",
              "                    False, False, False, False, False, False, False, False,\n",
              "                    False, False, False, False, False, False, False, False,\n",
              "                    False, False, False, False, False, False, False, False,\n",
              "                    False, False, False, False, False, False, False, False,\n",
              "                    False, False, False, False, False, False, False, False],\n",
              "        fill_value='?',\n",
              "             dtype=object),\n",
              " 'param_n_estimators': masked_array(data=[54, 55, 56, 57, 58, 59, 60, 62, 54, 55, 56, 57, 58, 59,\n",
              "                    60, 62, 54, 55, 56, 57, 58, 59, 60, 62, 54, 55, 56, 57,\n",
              "                    58, 59, 60, 62, 54, 55, 56, 57, 58, 59, 60, 62, 54, 55,\n",
              "                    56, 57, 58, 59, 60, 62],\n",
              "              mask=[False, False, False, False, False, False, False, False,\n",
              "                    False, False, False, False, False, False, False, False,\n",
              "                    False, False, False, False, False, False, False, False,\n",
              "                    False, False, False, False, False, False, False, False,\n",
              "                    False, False, False, False, False, False, False, False,\n",
              "                    False, False, False, False, False, False, False, False],\n",
              "        fill_value='?',\n",
              "             dtype=object),\n",
              " 'params': [{'max_depth': 12, 'n_estimators': 54},\n",
              "  {'max_depth': 12, 'n_estimators': 55},\n",
              "  {'max_depth': 12, 'n_estimators': 56},\n",
              "  {'max_depth': 12, 'n_estimators': 57},\n",
              "  {'max_depth': 12, 'n_estimators': 58},\n",
              "  {'max_depth': 12, 'n_estimators': 59},\n",
              "  {'max_depth': 12, 'n_estimators': 60},\n",
              "  {'max_depth': 12, 'n_estimators': 62},\n",
              "  {'max_depth': 13, 'n_estimators': 54},\n",
              "  {'max_depth': 13, 'n_estimators': 55},\n",
              "  {'max_depth': 13, 'n_estimators': 56},\n",
              "  {'max_depth': 13, 'n_estimators': 57},\n",
              "  {'max_depth': 13, 'n_estimators': 58},\n",
              "  {'max_depth': 13, 'n_estimators': 59},\n",
              "  {'max_depth': 13, 'n_estimators': 60},\n",
              "  {'max_depth': 13, 'n_estimators': 62},\n",
              "  {'max_depth': 14, 'n_estimators': 54},\n",
              "  {'max_depth': 14, 'n_estimators': 55},\n",
              "  {'max_depth': 14, 'n_estimators': 56},\n",
              "  {'max_depth': 14, 'n_estimators': 57},\n",
              "  {'max_depth': 14, 'n_estimators': 58},\n",
              "  {'max_depth': 14, 'n_estimators': 59},\n",
              "  {'max_depth': 14, 'n_estimators': 60},\n",
              "  {'max_depth': 14, 'n_estimators': 62},\n",
              "  {'max_depth': 15, 'n_estimators': 54},\n",
              "  {'max_depth': 15, 'n_estimators': 55},\n",
              "  {'max_depth': 15, 'n_estimators': 56},\n",
              "  {'max_depth': 15, 'n_estimators': 57},\n",
              "  {'max_depth': 15, 'n_estimators': 58},\n",
              "  {'max_depth': 15, 'n_estimators': 59},\n",
              "  {'max_depth': 15, 'n_estimators': 60},\n",
              "  {'max_depth': 15, 'n_estimators': 62},\n",
              "  {'max_depth': 16, 'n_estimators': 54},\n",
              "  {'max_depth': 16, 'n_estimators': 55},\n",
              "  {'max_depth': 16, 'n_estimators': 56},\n",
              "  {'max_depth': 16, 'n_estimators': 57},\n",
              "  {'max_depth': 16, 'n_estimators': 58},\n",
              "  {'max_depth': 16, 'n_estimators': 59},\n",
              "  {'max_depth': 16, 'n_estimators': 60},\n",
              "  {'max_depth': 16, 'n_estimators': 62},\n",
              "  {'max_depth': 17, 'n_estimators': 54},\n",
              "  {'max_depth': 17, 'n_estimators': 55},\n",
              "  {'max_depth': 17, 'n_estimators': 56},\n",
              "  {'max_depth': 17, 'n_estimators': 57},\n",
              "  {'max_depth': 17, 'n_estimators': 58},\n",
              "  {'max_depth': 17, 'n_estimators': 59},\n",
              "  {'max_depth': 17, 'n_estimators': 60},\n",
              "  {'max_depth': 17, 'n_estimators': 62}],\n",
              " 'rank_test_score': array([16, 10,  9, 13, 14, 12, 11, 15, 31, 23, 22, 27, 25, 24, 28, 32,  4,\n",
              "         1,  2,  7,  3,  6,  5,  8, 40, 38, 33, 36, 35, 37, 34, 39, 29, 20,\n",
              "        17, 21, 19, 18, 26, 30, 48, 46, 45, 47, 43, 41, 42, 44],\n",
              "       dtype=int32),\n",
              " 'split0_test_score': array([0.42301795, 0.42715398, 0.42669942, 0.42156912, 0.41917115,\n",
              "        0.42237084, 0.42565869, 0.42818025, 0.43043043, 0.43416186,\n",
              "        0.43619781, 0.43140079, 0.42665508, 0.42591358, 0.42994387,\n",
              "        0.43108146, 0.40257283, 0.40745229, 0.4095722 , 0.40480644,\n",
              "        0.40848151, 0.40767618, 0.40921328, 0.41094359, 0.42931509,\n",
              "        0.43340381, 0.43053384, 0.42452152, 0.4233848 , 0.42536618,\n",
              "        0.42496738, 0.42785167, 0.42701586, 0.4307846 , 0.43498147,\n",
              "        0.43006578, 0.42894377, 0.43042114, 0.4288876 , 0.42964792,\n",
              "        0.41599939, 0.41920476, 0.41575876, 0.41013424, 0.41737253,\n",
              "        0.4190225 , 0.42171591, 0.42426228]),\n",
              " 'split0_train_score': array([0.92548316, 0.92499722, 0.92573812, 0.92669808, 0.92625867,\n",
              "        0.92539537, 0.92538033, 0.92597595, 0.92431863, 0.92400088,\n",
              "        0.92432537, 0.92562622, 0.92503773, 0.9244583 , 0.92427074,\n",
              "        0.92472465, 0.93293104, 0.93245139, 0.93327264, 0.9343581 ,\n",
              "        0.93397384, 0.93332719, 0.93314928, 0.93336084, 0.93549724,\n",
              "        0.93508189, 0.93542153, 0.93621256, 0.93546816, 0.93452036,\n",
              "        0.93456577, 0.93478053, 0.93552884, 0.93511446, 0.93537662,\n",
              "        0.93628386, 0.93609818, 0.93556971, 0.93559556, 0.93631573,\n",
              "        0.93192191, 0.93155403, 0.93203917, 0.93305851, 0.93289495,\n",
              "        0.9325743 , 0.93306397, 0.9334145 ]),\n",
              " 'split1_test_score': array([0.47012626, 0.47467032, 0.47527819, 0.47428102, 0.47119363,\n",
              "        0.47001554, 0.46762924, 0.46898939, 0.4030352 , 0.40898265,\n",
              "        0.40663481, 0.40556739, 0.40838204, 0.40884434, 0.40703155,\n",
              "        0.40563049, 0.44545   , 0.44979216, 0.45129895, 0.44311522,\n",
              "        0.44447863, 0.43965376, 0.44246556, 0.44705402, 0.40137442,\n",
              "        0.40667956, 0.40819228, 0.4010897 , 0.40446861, 0.40520882,\n",
              "        0.40415839, 0.40666833, 0.41009086, 0.41545427, 0.41669336,\n",
              "        0.41648064, 0.42126523, 0.42188342, 0.41465434, 0.41741173,\n",
              "        0.34689932, 0.35621471, 0.36306516, 0.35429478, 0.35669947,\n",
              "        0.36022957, 0.35976153, 0.36203176]),\n",
              " 'split1_train_score': array([0.91550057, 0.91487404, 0.91512799, 0.91542169, 0.91512462,\n",
              "        0.91420514, 0.9148994 , 0.91604883, 0.91175113, 0.91138413,\n",
              "        0.9118807 , 0.91281684, 0.91273889, 0.91211106, 0.91318986,\n",
              "        0.91457331, 0.9147947 , 0.91403534, 0.91433973, 0.91527174,\n",
              "        0.916141  , 0.91707502, 0.9175675 , 0.91869627, 0.91795305,\n",
              "        0.91712073, 0.91743978, 0.91912076, 0.91910863, 0.91889727,\n",
              "        0.92018186, 0.92146701, 0.91925012, 0.9183503 , 0.91878897,\n",
              "        0.92033773, 0.92004527, 0.91937185, 0.92056656, 0.92183947,\n",
              "        0.91484397, 0.91445993, 0.91524615, 0.91606797, 0.91661293,\n",
              "        0.91660174, 0.91793439, 0.91961098]),\n",
              " 'split2_test_score': array([0.71633063, 0.72005232, 0.72203968, 0.72281764, 0.72796029,\n",
              "        0.72344875, 0.72275761, 0.72423366, 0.71210696, 0.71634445,\n",
              "        0.71537714, 0.72118911, 0.7244592 , 0.7225416 , 0.71873095,\n",
              "        0.71527851, 0.71569362, 0.71943224, 0.7204273 , 0.71997974,\n",
              "        0.72347399, 0.72446333, 0.72471916, 0.72586592, 0.6960515 ,\n",
              "        0.70100408, 0.69919628, 0.70166845, 0.70429673, 0.70447212,\n",
              "        0.70587189, 0.70481248, 0.69351934, 0.69899393, 0.70149377,\n",
              "        0.69784382, 0.7035952 , 0.70440713, 0.70277036, 0.70582813,\n",
              "        0.68826798, 0.6944656 , 0.69293257, 0.69667672, 0.70102136,\n",
              "        0.70003263, 0.6960922 , 0.69837994]),\n",
              " 'split2_train_score': array([0.89919051, 0.89985364, 0.90191347, 0.9025231 , 0.90237918,\n",
              "        0.90155975, 0.90283039, 0.90293355, 0.90054112, 0.9013051 ,\n",
              "        0.90218705, 0.90326729, 0.9023555 , 0.90145443, 0.90250205,\n",
              "        0.90236723, 0.90445655, 0.90537124, 0.90614474, 0.90707542,\n",
              "        0.90733719, 0.90634063, 0.9080092 , 0.90834655, 0.90460102,\n",
              "        0.90572544, 0.90631626, 0.90756932, 0.90713868, 0.90627943,\n",
              "        0.90760779, 0.90778002, 0.90189388, 0.90316564, 0.90405802,\n",
              "        0.90564527, 0.90531   , 0.90441123, 0.90628302, 0.90721509,\n",
              "        0.90854242, 0.9096005 , 0.91012659, 0.91148104, 0.91103265,\n",
              "        0.91045982, 0.91208799, 0.91261142]),\n",
              " 'split3_test_score': array([0.48721848, 0.48971135, 0.48826336, 0.48529506, 0.48325443,\n",
              "        0.48548139, 0.48334105, 0.48308613, 0.5005854 , 0.50359234,\n",
              "        0.50175857, 0.49986865, 0.50053907, 0.49740141, 0.49219877,\n",
              "        0.48960027, 0.5257186 , 0.530646  , 0.53040502, 0.52456258,\n",
              "        0.5243599 , 0.52032659, 0.52016741, 0.52088599, 0.50146658,\n",
              "        0.50509301, 0.50911552, 0.50684781, 0.50341392, 0.49670997,\n",
              "        0.49570429, 0.49699629, 0.48708448, 0.49080795, 0.49198289,\n",
              "        0.49243751, 0.49218222, 0.49035119, 0.48726834, 0.48642052,\n",
              "        0.47644048, 0.47989052, 0.48464479, 0.48270057, 0.48465825,\n",
              "        0.48127121, 0.48379824, 0.48312651]),\n",
              " 'split3_train_score': array([0.90226686, 0.90314044, 0.90437155, 0.90608025, 0.90571283,\n",
              "        0.90579717, 0.90776431, 0.90889206, 0.90360907, 0.90461203,\n",
              "        0.90496486, 0.90673093, 0.90689475, 0.90732059, 0.9092897 ,\n",
              "        0.91114371, 0.91504022, 0.91589528, 0.9166267 , 0.91814291,\n",
              "        0.9177607 , 0.91763366, 0.91936238, 0.92047342, 0.91059637,\n",
              "        0.91152929, 0.91221782, 0.91407043, 0.91342705, 0.91269658,\n",
              "        0.91461326, 0.91613769, 0.91589848, 0.91678475, 0.91744535,\n",
              "        0.91874073, 0.91945979, 0.91849203, 0.92031963, 0.92165862,\n",
              "        0.90937882, 0.91042498, 0.91121936, 0.91323286, 0.91310422,\n",
              "        0.91238518, 0.91415682, 0.91549364]),\n",
              " 'split4_test_score': array([0.54156018, 0.53767998, 0.54268954, 0.54309488, 0.54387064,\n",
              "        0.54724118, 0.54929807, 0.5361803 , 0.5085716 , 0.50807362,\n",
              "        0.51659241, 0.50809255, 0.50999393, 0.51578002, 0.51708697,\n",
              "        0.49909247, 0.58609522, 0.57999562, 0.57360808, 0.57441866,\n",
              "        0.58073072, 0.57578813, 0.57321109, 0.56074256, 0.48725864,\n",
              "        0.4825705 , 0.49123027, 0.49659995, 0.50007789, 0.49867969,\n",
              "        0.50592615, 0.4922211 , 0.5448888 , 0.54238461, 0.54518924,\n",
              "        0.54026787, 0.53533659, 0.53559338, 0.53615556, 0.51749194,\n",
              "        0.53127729, 0.52890099, 0.52630039, 0.5323148 , 0.53647603,\n",
              "        0.53937398, 0.53796318, 0.52294676]),\n",
              " 'split4_train_score': array([0.90519558, 0.90613265, 0.90800121, 0.90952091, 0.90956294,\n",
              "        0.90895849, 0.91072241, 0.91102871, 0.90447806, 0.90566686,\n",
              "        0.90744205, 0.90884011, 0.90940142, 0.90929523, 0.91071589,\n",
              "        0.91106472, 0.90922515, 0.9102605 , 0.91063897, 0.91232509,\n",
              "        0.91304221, 0.91259358, 0.9139191 , 0.91428969, 0.91746755,\n",
              "        0.91826013, 0.9189678 , 0.92016421, 0.92112262, 0.92087626,\n",
              "        0.9223562 , 0.92242374, 0.91697454, 0.91783498, 0.91879638,\n",
              "        0.92017139, 0.92176008, 0.92090996, 0.92269893, 0.92265201,\n",
              "        0.91651801, 0.91791219, 0.91922926, 0.92066689, 0.92133213,\n",
              "        0.92050927, 0.92205906, 0.92228404]),\n",
              " 'std_fit_time': array([0.01080785, 0.00212625, 0.00162838, 0.001909  , 0.00072848,\n",
              "        0.00103549, 0.00510908, 0.04404831, 0.00108226, 0.00876159,\n",
              "        0.00346507, 0.00158249, 0.00517323, 0.00111383, 0.001836  ,\n",
              "        0.00865582, 0.0014883 , 0.00239875, 0.00115115, 0.00239091,\n",
              "        0.00279027, 0.0084679 , 0.0006623 , 0.00561746, 0.00296868,\n",
              "        0.00229682, 0.00064611, 0.00205875, 0.00827821, 0.00100577,\n",
              "        0.00633654, 0.00219344, 0.00061534, 0.00088503, 0.0392622 ,\n",
              "        0.00107397, 0.00322011, 0.00277746, 0.00550133, 0.00100808,\n",
              "        0.00322637, 0.00159765, 0.00542534, 0.0014052 , 0.00143811,\n",
              "        0.00146011, 0.00435801, 0.0014763 ]),\n",
              " 'std_score_time': array([4.41875982e-04, 1.86442634e-04, 1.42284613e-04, 1.69461875e-04,\n",
              "        2.61458758e-04, 2.30997362e-04, 2.81804524e-04, 2.05832856e-04,\n",
              "        8.37192709e-05, 4.04388178e-04, 4.24159140e-04, 4.52193188e-04,\n",
              "        3.34340269e-04, 4.19437099e-04, 1.88755590e-04, 1.40240021e-04,\n",
              "        2.45530023e-04, 3.72859065e-04, 1.73164817e-04, 4.11720968e-04,\n",
              "        4.07923612e-04, 9.52416306e-05, 2.18977382e-04, 5.08990845e-04,\n",
              "        3.03396349e-04, 3.27522627e-04, 4.67734243e-04, 2.10866557e-04,\n",
              "        2.28814542e-04, 5.57600059e-04, 3.00256335e-04, 1.84594029e-04,\n",
              "        3.09545429e-04, 1.16366088e-04, 6.59741019e-04, 4.59309259e-04,\n",
              "        2.22671741e-04, 3.29790500e-04, 1.83516342e-04, 1.38558786e-04,\n",
              "        7.72808160e-04, 1.50268828e-04, 1.12615834e-04, 7.87381079e-04,\n",
              "        1.04661401e-04, 1.06796834e-04, 2.46363971e-04, 5.21202218e-04]),\n",
              " 'std_test_score': array([0.10170181, 0.1014609 , 0.10244403, 0.1041545 , 0.10708561,\n",
              "        0.10480037, 0.10441588, 0.10399032, 0.10839232, 0.10819177,\n",
              "        0.10799913, 0.11115689, 0.11253065, 0.11191578, 0.11040055,\n",
              "        0.10937698, 0.11039805, 0.10917256, 0.10830314, 0.11072264,\n",
              "        0.11131629, 0.1123438 , 0.11143674, 0.10994195, 0.10325763,\n",
              "        0.10367749, 0.10279554, 0.1058835 , 0.10632759, 0.10604554,\n",
              "        0.10679054, 0.10564749, 0.10226398, 0.10219607, 0.10224784,\n",
              "        0.10151873, 0.10268323, 0.10271523, 0.10391029, 0.10393734,\n",
              "        0.11591118, 0.11507285, 0.11311814, 0.11769444, 0.11779453,\n",
              "        0.11666079, 0.11488376, 0.11398362]),\n",
              " 'std_train_score': array([0.00968087, 0.00909319, 0.00859933, 0.00847031, 0.00837754,\n",
              "        0.00821812, 0.00762345, 0.0077429 , 0.00852378, 0.00799388,\n",
              "        0.00776612, 0.00773138, 0.00766563, 0.00761441, 0.00708791,\n",
              "        0.00721021, 0.00965049, 0.00916125, 0.00924285, 0.00921959,\n",
              "        0.00890329, 0.00893584, 0.00833316, 0.00829668, 0.0103708 ,\n",
              "        0.00983997, 0.00974348, 0.00950463, 0.00945671, 0.0094378 ,\n",
              "        0.00894694, 0.00882491, 0.01071127, 0.01014177, 0.00993883,\n",
              "        0.0097229 , 0.00976637, 0.00988546, 0.00930714, 0.00920957,\n",
              "        0.00841756, 0.00796075, 0.00791512, 0.00772998, 0.00777747,\n",
              "        0.00784553, 0.00742723, 0.00718169])}"
            ]
          },
          "metadata": {
            "tags": []
          },
          "execution_count": 131
        }
      ]
    },
    {
      "cell_type": "code",
      "metadata": {
        "scrolled": true,
        "id": "MEGE8MlPWalR",
        "colab_type": "code",
        "outputId": "7e2f78ac-6213-4e65-87c6-676ab25da942",
        "colab": {
          "base_uri": "https://localhost:8080/",
          "height": 0
        }
      },
      "source": [
        "# plot the effect of different number of trees and maximum tree-depth druing cross validation \n",
        "scores = grid_rf.cv_results_['mean_test_score']\n",
        "\n",
        "n_est = [54, 55, 56, 57, 58, 59, 60, 62]\n",
        "m_depth=[12, 13, 14, 15, 16, 17]\n",
        "scores = np.array(scores).reshape(len(m_depth), len(n_est))\n",
        "fig = plt.figure()\n",
        "ax = plt.subplot(111)\n",
        "for ind, i in enumerate(m_depth):\n",
        "    plt.plot(n_est, scores[ind], '-o', label='n estimator.' + str(i),)\n",
        "    \n",
        "ax.legend(loc='center left', bbox_to_anchor=(1, 0.5))\n",
        "plt.xlabel('Mean score')\n",
        "plt.ylabel('Max depth')\n",
        "plt.grid(True)\n",
        "plt.show()\n",
        "# savefig('rf_1')"
      ],
      "execution_count": 132,
      "outputs": [
        {
          "output_type": "display_data",
          "data": {
            "image/png": "[encoded data removed]",
            "text/plain": [
              "<Figure size 432x288 with 1 Axes>"
            ]
          },
          "metadata": {
            "tags": []
          }
        }
      ]
    },
    {
      "cell_type": "code",
      "metadata": {
        "id": "H-djsYPYWalb",
        "colab_type": "code",
        "outputId": "27476843-f3e6-4264-9ef1-5f672b905600",
        "colab": {
          "base_uri": "https://localhost:8080/",
          "height": 0
        }
      },
      "source": [
        "# add both training and validation data together as the new training data\n",
        "rf = RandomForestRegressor(random_state=2, max_features = 'sqrt', max_depth= 14, n_estimators=55)\n",
        "rf.fit(model_train_x, model_train_y)"
      ],
      "execution_count": 133,
      "outputs": [
        {
          "output_type": "execute_result",
          "data": {
            "text/plain": [
              "RandomForestRegressor(bootstrap=True, criterion='mse', max_depth=14,\n",
              "           max_features='sqrt', max_leaf_nodes=None,\n",
              "           min_impurity_decrease=0.0, min_impurity_split=None,\n",
              "           min_samples_leaf=1, min_samples_split=2,\n",
              "           min_weight_fraction_leaf=0.0, n_estimators=55, n_jobs=None,\n",
              "           oob_score=False, random_state=2, verbose=0, warm_start=False)"
            ]
          },
          "metadata": {
            "tags": []
          },
          "execution_count": 133
        }
      ]
    },
    {
      "cell_type": "markdown",
      "metadata": {
        "id": "PaSorQKQWall",
        "colab_type": "text"
      },
      "source": [
        "The best rf model have n_estimator = 14, and max_depth = 55."
      ]
    },
    {
      "cell_type": "markdown",
      "metadata": {
        "id": "xGaNjVPfWaln",
        "colab_type": "text"
      },
      "source": [
        "# Part 4: Model Evaluation\n",
        "Test data is the reserved 15% of the whole dataset, and has never been seen by the above models. "
      ]
    },
    {
      "cell_type": "markdown",
      "metadata": {
        "id": "JCULVMLJWalq",
        "colab_type": "text"
      },
      "source": [
        "## 4.1 Lasso test with linear features (lasso_f)"
      ]
    },
    {
      "cell_type": "code",
      "metadata": {
        "id": "Q6kbv5RmWals",
        "colab_type": "code",
        "outputId": "2379b3db-b286-422a-c1e1-1ea4ee79e91a",
        "colab": {
          "base_uri": "https://localhost:8080/",
          "height": 69
        }
      },
      "source": [
        "# Lasso_f test (with linear features)\n",
        "\n",
        "lasso_f_score = lasso_f.score(model_test_x, model_test_y)\n",
        "pred_y = lasso_f.predict(model_test_x)\n",
        "\n",
        "# The mean squared error and root mean square error\n",
        "MSE_lasso_f = mean_squared_error(model_test_y, pred_y)\n",
        "RMSE_lasso_f = sqrt(mean_squared_error(model_test_y, pred_y))\n",
        "\n",
        "print 'lasso_f score: ', lasso_f_score\n",
        "print 'Mean square error of lasso_f: ', MSE_lasso_f\n",
        "print 'Root mean squared error of lasso_f:', RMSE_lasso_f\n",
        "# print ('Coefficients of lasso_f: ', lasso_f.coef_)"
      ],
      "execution_count": 134,
      "outputs": [
        {
          "output_type": "stream",
          "text": [
            "lasso_f score:  0.09954927178753736\n",
            "Mean square error of lasso_f:  238953191.99910027\n",
            "Root mean squared error of lasso_f: 15458.1108807\n"
          ],
          "name": "stdout"
        }
      ]
    },
    {
      "cell_type": "markdown",
      "metadata": {
        "id": "zbOz3JrPWalw",
        "colab_type": "text"
      },
      "source": [
        "## 4.2 Lasso test with polynomial features (lasso_fp)"
      ]
    },
    {
      "cell_type": "code",
      "metadata": {
        "id": "Da9uibW1Walx",
        "colab_type": "code",
        "outputId": "caa7af0f-1bc4-472e-b1c0-83366db08e2f",
        "colab": {
          "base_uri": "https://localhost:8080/",
          "height": 69
        }
      },
      "source": [
        "# Lasso_fp test (with polynomial features)\n",
        "model_test_xp = poly.fit_transform(model_test_x)\n",
        "pred_y = lasso_fp.predict(model_test_xp)\n",
        "\n",
        "lasso_fp_score = lasso_fp.score(model_test_xp, model_test_y)\n",
        "MSE_lasso_fp = mean_squared_error(model_test_y, pred_y)\n",
        "RMSE_lasso_fp = sqrt(mean_squared_error(model_test_y, pred_y))\n",
        "\n",
        "print 'lasso_fp score: ', lasso_fp_score\n",
        "print 'Mean square error of lasso_fp: ', MSE_lasso_fp\n",
        "print 'Root mean squared error of lasso_fp:', RMSE_lasso_fp\n",
        "# print ('Coefficients of lasso_fp: ', lasso_fp.coef_)"
      ],
      "execution_count": 135,
      "outputs": [
        {
          "output_type": "stream",
          "text": [
            "lasso_fp score:  -0.008361595367948116\n",
            "Mean square error of lasso_fp:  267589568.59394485\n",
            "Root mean squared error of lasso_fp: 16358.1651964\n"
          ],
          "name": "stdout"
        }
      ]
    },
    {
      "cell_type": "markdown",
      "metadata": {
        "id": "KWDyGIhdWal0",
        "colab_type": "text"
      },
      "source": [
        "## 4.3 Ridge test with linear features (ridge_f)"
      ]
    },
    {
      "cell_type": "code",
      "metadata": {
        "id": "uE41G3GEWal4",
        "colab_type": "code",
        "outputId": "c7f0051f-49d0-4a31-b27e-179926ccd858",
        "colab": {
          "base_uri": "https://localhost:8080/",
          "height": 69
        }
      },
      "source": [
        "# ridge_f test (with linear features)\n",
        "\n",
        "ridge_f_score = ridge_f.score(model_test_x, model_test_y)\n",
        "pred_y = ridge_f.predict(model_test_x)\n",
        "\n",
        "# The mean squared error and root mean square error\n",
        "MSE_ridge_f = mean_squared_error(model_test_y, pred_y)\n",
        "RMSE_ridge_f = sqrt(mean_squared_error(model_test_y, pred_y))\n",
        "\n",
        "print 'ridge_f score: ', ridge_f_score\n",
        "print 'Mean square error of ridge_f: ', MSE_ridge_f\n",
        "print 'Root mean squared error of ridge_f:', RMSE_ridge_f\n",
        "# print ('Coefficients of ridge_f: ', ridge_f.coef_)"
      ],
      "execution_count": 136,
      "outputs": [
        {
          "output_type": "stream",
          "text": [
            "ridge_f score:  0.11379706231843745\n",
            "Mean square error of ridge_f:  235172246.61294714\n",
            "Root mean squared error of ridge_f: 15335.3267527\n"
          ],
          "name": "stdout"
        }
      ]
    },
    {
      "cell_type": "markdown",
      "metadata": {
        "id": "eR-3xrFqWal9",
        "colab_type": "text"
      },
      "source": [
        "## 4.4 Ridge test with polynomial features (ridge_fp)"
      ]
    },
    {
      "cell_type": "code",
      "metadata": {
        "id": "CdubueYxWal-",
        "colab_type": "code",
        "outputId": "f81700b1-ebbd-4695-f859-bc8156c5dc40",
        "colab": {
          "base_uri": "https://localhost:8080/",
          "height": 69
        }
      },
      "source": [
        "# ridge_fp test (with polynomial features)\n",
        "model_test_xp = poly.fit_transform(model_test_x)\n",
        "\n",
        "ridge_fp_score = ridge_fp.score(model_test_xp, model_test_y)\n",
        "MSE_ridge_fp = mean_squared_error(model_test_y, pred_y)\n",
        "RMSE_ridge_fp = sqrt(mean_squared_error(model_test_y, pred_y))\n",
        "\n",
        "pred_y = ridge_fp.predict(model_test_xp)\n",
        "print 'ridge_fp score: ', ridge_f_score\n",
        "print 'Mean square error of ridge_fp: ', MSE_ridge_fp\n",
        "print 'Root mean squared error of ridge_fp:', RMSE_ridge_fp\n",
        "#print ('Coefficients of ridge_fp: ', ridge_fp.coef_)"
      ],
      "execution_count": 137,
      "outputs": [
        {
          "output_type": "stream",
          "text": [
            "ridge_fp score:  0.11379706231843745\n",
            "Mean square error of ridge_fp:  235172246.61294714\n",
            "Root mean squared error of ridge_fp: 15335.3267527\n"
          ],
          "name": "stdout"
        }
      ]
    },
    {
      "cell_type": "markdown",
      "metadata": {
        "id": "a0PDVTSzWamH",
        "colab_type": "text"
      },
      "source": [
        "## 4.5 Random forest test (rf)"
      ]
    },
    {
      "cell_type": "code",
      "metadata": {
        "id": "OvjiUmCKWamK",
        "colab_type": "code",
        "outputId": "7735019f-7148-4aa6-8e4f-8a85bfce33aa",
        "colab": {
          "base_uri": "https://localhost:8080/",
          "height": 69
        }
      },
      "source": [
        "rf_score = rf.score(model_test_x, model_test_y)\n",
        "\n",
        "pred_y = rf.predict(model_test_x)\n",
        "MSE_rf = mean_squared_error(model_test_y, pred_y)\n",
        "RMSE_rf = sqrt(mean_squared_error(model_test_y, pred_y))\n",
        "\n",
        "# The mean squared error and root mean square error\n",
        "print 'rf score: ', rf_score\n",
        "print 'Mean square error of rf: ', MSE_rf\n",
        "print 'Root mean squared error of rf:', RMSE_rf\n",
        "# print('Coefficients: \\n', ridge_fp.coef_)"
      ],
      "execution_count": 138,
      "outputs": [
        {
          "output_type": "stream",
          "text": [
            "rf score:  0.5098577869271956\n",
            "Mean square error of rf:  130069356.02101581\n",
            "Root mean squared error of rf: 11404.7953082\n"
          ],
          "name": "stdout"
        }
      ]
    },
    {
      "cell_type": "markdown",
      "metadata": {
        "id": "5pNVk2I_WamO",
        "colab_type": "text"
      },
      "source": [
        "## 4.6 Comparison of the 5 models\n",
        "Compared the max_score, mean squared error (MSE), and root mean squared error (RMSE) of 5 models. Random forest model rf returns the beset prediction accuracy."
      ]
    },
    {
      "cell_type": "code",
      "metadata": {
        "id": "VpZ3ST3YWamQ",
        "colab_type": "code",
        "outputId": "173a711e-b46a-4863-c0e0-dfe0ebb4bd78",
        "colab": {
          "base_uri": "https://localhost:8080/",
          "height": 841
        }
      },
      "source": [
        "lst_score = [lasso_f_score, lasso_fp_score, ridge_f_score, ridge_fp_score, rf_score]\n",
        "MSE_lst =  [MSE_lasso_f, MSE_lasso_fp, MSE_ridge_f, MSE_ridge_fp, MSE_rf]\n",
        "RMSE_lst =  [RMSE_lasso_f, RMSE_lasso_fp, RMSE_ridge_f, RMSE_ridge_fp, RMSE_rf]\n",
        "model_lst = ['Lasso_linear','Lasso poly', 'Ridge linear', 'Ridge poly', 'Random forest']\n",
        "\n",
        "plt.figure(1)\n",
        "plt.plot(model_lst, lst_score, 'ro')\n",
        "plt.legend(loc = 9)\n",
        "plt.legend(['r-squre / score'])\n",
        "plt.xlabel('model names',fontsize =16)\n",
        "plt.ylabel('score / r square', fontsize =16)\n",
        "plt.grid(True)\n",
        "plt.show()\n",
        "\n",
        "plt.figure(2)\n",
        "plt.plot(model_lst, MSE_lst, 'g^')\n",
        "plt.legend(loc = 9)\n",
        "plt.legend(['mean square error (MSE)'])\n",
        "plt.xlabel('model names', fontsize =16)\n",
        "plt.ylabel('mean square error', fontsize =16)\n",
        "plt.grid(True)\n",
        "plt.show()\n",
        "\n",
        "plt.figure(3)\n",
        "plt.plot(model_lst, RMSE_lst, 'bs')\n",
        "plt.legend(loc = 9)\n",
        "plt.legend(['root mean square error (RMSE)'])\n",
        "plt.xlabel('model names', fontsize =16)\n",
        "plt.ylabel('root mean square error', fontsize =16)\n",
        "plt.grid(True)\n",
        "plt.show()"
      ],
      "execution_count": 139,
      "outputs": [
        {
          "output_type": "display_data",
          "data": {
            "image/png": "[encoded data removed]",
            "text/plain": [
              "<Figure size 432x288 with 1 Axes>"
            ]
          },
          "metadata": {
            "tags": []
          }
        },
        {
          "output_type": "display_data",
          "data": {
            "image/png": "[encoded data removed]",
            "text/plain": [
              "<Figure size 432x288 with 1 Axes>"
            ]
          },
          "metadata": {
            "tags": []
          }
        },
        {
          "output_type": "display_data",
          "data": {
            "image/png": "[encoded data removed]",
            "text/plain": [
              "<Figure size 432x288 with 1 Axes>"
            ]
          },
          "metadata": {
            "tags": []
          }
        }
      ]
    },
    {
      "cell_type": "markdown",
      "metadata": {
        "id": "r7KCkeuiWamW",
        "colab_type": "text"
      },
      "source": [
        "\n",
        "# 5. Feature importance\n",
        "Random forest(RF) shows the best prediction accuracy. Therefore, the feature importance will be extracted from the RF model. "
      ]
    },
    {
      "cell_type": "code",
      "metadata": {
        "id": "Glzw8GsBWamW",
        "colab_type": "code",
        "outputId": "0471a9ac-6c32-4593-e660-718aa3fd8970",
        "colab": {
          "base_uri": "https://localhost:8080/",
          "height": 1000
        }
      },
      "source": [
        "importances = rf.feature_importances_\n",
        "std = np.std([tree.feature_importances_ for tree in rf.estimators_], axis=0)\n",
        "indices = np.argsort(importances)[::-1]\n",
        "feature_name = model_test_x.columns.get_values()\n",
        "\n",
        "# Print the feature ranking\n",
        "print(\"Feature importance ranking:\")\n",
        "\n",
        "for f in range(model_test_x.shape[1]):\n",
        "    print(\"%d. feature %d %s (%f)\" % (f + 1, indices[f],  feature_name[f], importances[indices[f]]))\n",
        "    \n",
        "plt.figure(1)\n",
        "plt.bar(feature_name[:11], importances[indices[:11]])\n",
        "plt.xticks(rotation=90)\n",
        "plt.show()"
      ],
      "execution_count": 140,
      "outputs": [
        {
          "output_type": "stream",
          "text": [
            "Feature importance ranking:\n",
            "1. feature 2 weighted_categorical_position (0.153114)\n",
            "2. feature 0 weighted_horizontal_poition (0.125979)\n",
            "3. feature 1 imdb_votes (0.122217)\n",
            "4. feature 7 budget (0.058824)\n",
            "5. feature 8 boxoffice (0.056730)\n",
            "6. feature 3 imdb_rating (0.055224)\n",
            "7. feature 4 duration_in_mins (0.054734)\n",
            "8. feature 6 metacritic_score (0.042676)\n",
            "9. feature 9 star_category (0.039899)\n",
            "10. feature 5 lionsgate (0.032440)\n",
            "11. feature 11 mgm (0.027291)\n",
            "12. feature 53 other (0.025557)\n",
            "13. feature 10 paramount (0.020731)\n",
            "14. feature 42 G (0.017618)\n",
            "15. feature 28 NC-17 (0.012257)\n",
            "16. feature 18 NotRated (0.011334)\n",
            "17. feature 27 PG (0.010325)\n",
            "18. feature 49 PG-13 (0.007859)\n",
            "19. feature 52 R (0.007672)\n",
            "20. feature 23 BAFTA (0.007548)\n",
            "21. feature 30 Golden Globe (0.006129)\n",
            "22. feature 15 Oscar (0.005517)\n",
            "23. feature 29 no award (0.005429)\n",
            "24. feature 51 other award (0.005089)\n",
            "25. feature 17 Action (0.005000)\n",
            "26. feature 50 Adventure (0.004992)\n",
            "27. feature 24 Animation (0.004810)\n",
            "28. feature 20 Comedy (0.004593)\n",
            "29. feature 25 Crime (0.004481)\n",
            "30. feature 22 Documentary (0.004423)\n",
            "31. feature 44 Drama (0.004416)\n",
            "32. feature 47 Fantasy (0.004400)\n",
            "33. feature 35 Foreign/International (0.004393)\n",
            "34. feature 48 Horror (0.004375)\n",
            "35. feature 33 Independent (0.003766)\n",
            "36. feature 39 Kids & Family (0.003637)\n",
            "37. feature 43 Music (0.003517)\n",
            "38. feature 21 Musicals (0.003489)\n",
            "39. feature 38 Mystery (0.003154)\n",
            "40. feature 12 Romance (0.002994)\n",
            "41. feature 54 Sci-Fi (0.002889)\n",
            "42. feature 16 Sport (0.002814)\n",
            "43. feature 26 Thriller (0.002650)\n",
            "44. feature 36 War (0.002333)\n",
            "45. feature 40 Western (0.002305)\n",
            "46. feature 46 Misc_gen (0.002291)\n",
            "47. feature 41 1916-1974 (0.001740)\n",
            "48. feature 31 1974-1991 (0.001313)\n",
            "49. feature 55 1991-2001 (0.000945)\n",
            "50. feature 37 2001-2006 (0.000642)\n",
            "51. feature 34 2006-2008 (0.000609)\n",
            "52. feature 14 2008-2010 (0.000422)\n",
            "53. feature 13 2010-2012 (0.000219)\n",
            "54. feature 32 2012-2013 (0.000096)\n",
            "55. feature 19 2013-2014 (0.000078)\n",
            "56. feature 45 2014-2017 (0.000020)\n"
          ],
          "name": "stdout"
        },
        {
          "output_type": "display_data",
          "data": {
            "image/png": "[encoded data removed]",
            "text/plain": [
              "<Figure size 432x288 with 1 Axes>"
            ]
          },
          "metadata": {
            "tags": []
          }
        }
      ]
    }
  ]
}